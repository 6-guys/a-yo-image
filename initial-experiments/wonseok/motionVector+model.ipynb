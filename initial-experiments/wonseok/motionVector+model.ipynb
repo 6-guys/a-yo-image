{
 "cells": [
  {
   "cell_type": "code",
   "execution_count": 1,
   "metadata": {},
   "outputs": [],
   "source": [
    "import tensorflow as tf\n",
    "from tensorflow.keras import layers, models\n",
    "from PIL import Image\n",
    "import numpy as np\n",
    "import os\n",
    "\n",
    "import matplotlib.pyplot as plt\n",
    "from matplotlib.animation import FuncAnimation\n",
    "from IPython.display import HTML\n",
    "\n",
    "from motion_utils import calculate_motion_vectors, combine_frames_and_motion_vectors\n"
   ]
  },
  {
   "cell_type": "code",
   "execution_count": 2,
   "metadata": {},
   "outputs": [],
   "source": [
    "# custom loss function, taking into account the RGB values\n",
    "# 효과는 크게 없었지만, 논리적으로는 맞는 부분인 것 같음.\n",
    "\n",
    "from tensorflow.keras import backend as K\n",
    "\n",
    "# Custom loss function that applies MSE specifically to RGB channels\n",
    "def mse_rgb(y_true, y_pred):\n",
    "    # y_true and y_pred are assumed to be in shape (batch_size, height, width, 3)\n",
    "    return K.mean(K.square(y_true - y_pred), axis=-1)"
   ]
  },
  {
   "cell_type": "code",
   "execution_count": 3,
   "metadata": {},
   "outputs": [],
   "source": [
    "from tensorflow.keras import layers, models\n",
    "\n",
    "def build_model(input_shape, output_frames):\n",
    "    \"\"\"\n",
    "    Builds a CNN-based encoder-decoder model for animation frame prediction.\n",
    "    \n",
    "    Parameters:\n",
    "    input_shape (tuple): The shape of the input frame (height, width, channels).\n",
    "    output_frames (int): The number of frames to generate as output.\n",
    "    \n",
    "    Returns:\n",
    "    model: The compiled Keras model.\n",
    "    \"\"\"\n",
    "    # Encoder\n",
    "    encoder_input = layers.Input(shape=input_shape, name='encoder_input')\n",
    "    \n",
    "    # CNN layers to encode the first frame\n",
    "    x = layers.Conv2D(64, (3, 3), padding='same', activation='relu')(encoder_input)\n",
    "    x = layers.MaxPooling2D((2, 2))(x)\n",
    "    x = layers.Conv2D(128, (3, 3), padding='same', activation='relu')(x)\n",
    "    x = layers.MaxPooling2D((2, 2))(x)\n",
    "    x = layers.Conv2D(256, (3, 3), strides=2, padding='same', activation='relu')(x)\n",
    "    \n",
    "    # Flatten the output of the convolutional layers\n",
    "    x = layers.Flatten()(x)\n",
    "\n",
    "    # Latent representation\n",
    "    latent = layers.Dense(512, activation='relu', name='latent_vector')(x)\n",
    "\n",
    "    # Decoder (generate multiple frames)\n",
    "    decoder_output = layers.Dense(output_frames * input_shape[0] * input_shape[1] * input_shape[2], activation='sigmoid')(latent)\n",
    "    \n",
    "    # Reshape to the desired output shape (frames, height, width, channels)\n",
    "    decoder_output = layers.Reshape((output_frames, input_shape[0], input_shape[1], input_shape[2]), name='decoder_output')(decoder_output)\n",
    "\n",
    "    # Build and compile the model\n",
    "    model = models.Model(encoder_input, decoder_output, name='frame_predictor_model')\n",
    "    \n",
    "    model.compile(optimizer='adam', loss='mse', metrics=['mae'])\n",
    "    return model\n"
   ]
  },
  {
   "cell_type": "code",
   "execution_count": 4,
   "metadata": {},
   "outputs": [
    {
     "name": "stdout",
     "output_type": "stream",
     "text": [
      "Model: \"frame_predictor_model\"\n",
      "_________________________________________________________________\n",
      " Layer (type)                Output Shape              Param #   \n",
      "=================================================================\n",
      " encoder_input (InputLayer)  [(None, 128, 128, 3)]     0         \n",
      "                                                                 \n",
      " conv2d (Conv2D)             (None, 128, 128, 64)      1792      \n",
      "                                                                 \n",
      " max_pooling2d (MaxPooling2  (None, 64, 64, 64)        0         \n",
      " D)                                                              \n",
      "                                                                 \n",
      " conv2d_1 (Conv2D)           (None, 64, 64, 128)       73856     \n",
      "                                                                 \n",
      " max_pooling2d_1 (MaxPoolin  (None, 32, 32, 128)       0         \n",
      " g2D)                                                            \n",
      "                                                                 \n",
      " conv2d_2 (Conv2D)           (None, 16, 16, 256)       295168    \n",
      "                                                                 \n",
      " flatten (Flatten)           (None, 65536)             0         \n",
      "                                                                 \n",
      " latent_vector (Dense)       (None, 512)               33554944  \n",
      "                                                                 \n",
      " dense (Dense)               (None, 442368)            226934784 \n",
      "                                                                 \n",
      " decoder_output (Reshape)    (None, 9, 128, 128, 3)    0         \n",
      "                                                                 \n",
      "=================================================================\n",
      "Total params: 260860544 (995.10 MB)\n",
      "Trainable params: 260860544 (995.10 MB)\n",
      "Non-trainable params: 0 (0.00 Byte)\n",
      "_________________________________________________________________\n"
     ]
    }
   ],
   "source": [
    "# Define input shape for 128x128x3 images\n",
    "input_shape = (128, 128, 3)  # Height, Width, Channels\n",
    "output_frames = 9  # Number of frames to predict\n",
    "\n",
    "# Build the model\n",
    "model = build_model(input_shape, output_frames)\n",
    "\n",
    "# Print model summary\n",
    "model.summary()"
   ]
  },
  {
   "cell_type": "code",
   "execution_count": 6,
   "metadata": {},
   "outputs": [
    {
     "name": "stdout",
     "output_type": "stream",
     "text": [
      "X shape: (5, 128, 128, 3)\n",
      "Y shape: (5, 9, 128, 128, 3)\n"
     ]
    }
   ],
   "source": [
    "def process_sprite_data(sprite_sheet_paths, num_frames):\n",
    "    \"\"\"\n",
    "    Processes sprite sheets and returns animation data without saving individual images.\n",
    "    \n",
    "    Parameters:\n",
    "    sprite_sheet_paths (list): List of paths to the sprite sheet images.\n",
    "    num_frames (int): Total number of frames (sprites) in the sprite sheet.\n",
    "    \n",
    "    Returns:\n",
    "    X (numpy array): Array of input frames (first frame of each animation sequence).\n",
    "    Y (numpy array): Array of output frames (remaining frames of each animation sequence).\n",
    "    \"\"\"\n",
    "    # Initialize lists for input (X) and output (Y) frames\n",
    "    X = []\n",
    "    Y = []\n",
    "    \n",
    "    # Process each sprite sheet in the provided paths\n",
    "    for i in range(len(sprite_sheet_paths)):\n",
    "        sprite_sheet = Image.open(sprite_sheet_paths[i])\n",
    "        \n",
    "        # Get sprite sheet dimensions\n",
    "        sheet_width, sheet_height = sprite_sheet.size\n",
    "        \n",
    "        # Calculate the width and height of each frame\n",
    "        frame_width = sheet_width // num_frames\n",
    "        frame_height = sheet_height  # Height of each frame is the same as the height of the sprite sheet\n",
    "        \n",
    "        # Loop through each frame in the sprite sheet\n",
    "        for frame_num in range(num_frames):\n",
    "            # Calculate the coordinates of the sprite in the sprite sheet\n",
    "            left = frame_num * frame_width\n",
    "            upper = 0\n",
    "            right = left + frame_width\n",
    "            lower = frame_height\n",
    "            \n",
    "            # Crop the sprite from the sprite sheet\n",
    "            frame = sprite_sheet.crop((left, upper, right, lower))\n",
    "            \n",
    "            # Resize to 128x128 if needed and convert to RGB\n",
    "            frame = frame.convert('RGB').resize((128, 128))\n",
    "            \n",
    "            # Normalize pixel values to [0, 1]\n",
    "            frame_array = np.array(frame) / 255.0\n",
    "            \n",
    "            # Append the first frame to X and the remaining ones to Y\n",
    "            if frame_num == 0:\n",
    "                X.append(frame_array)  # The first frame goes into X\n",
    "            else:\n",
    "                if len(Y) <= i:  # Initialize the sublist for Y if necessary\n",
    "                    Y.append([])\n",
    "                Y[i].append(frame_array)  # Subsequent frames go into Y\n",
    "    \n",
    "    return np.array(X), np.array(Y)\n",
    "\n",
    "sprite_sheet_paths = [\n",
    "    './data/Walk/Walk_City_men_1_10f.png',\n",
    "    './data/Walk/Walk_City_men_2_10f.png',\n",
    "    './data/Walk/Walk_City_men_3_10f.png',\n",
    "    './data/Walk/Walk_Gangsters_1_10f.png',\n",
    "    './data/Walk/Walk_Gangsters_2_10f.png',\n",
    "    './data/Walk/Walk_Gangsters_3_10f.png'\n",
    "] \n",
    "num_frames = 10  # Number of frames in the sprite sheet\n",
    "X, Y = process_sprite_data(sprite_sheet_paths, num_frames)\n",
    "\n",
    "print(f\"X shape: {X[1:].shape}\")  # Should be (num_sequences, 128, 128, 3)\n",
    "print(f\"Y shape: {Y[1:].shape}\")  # Should be (num_sequences, 9, 128, 128, 3)"
   ]
  },
  {
   "cell_type": "code",
   "execution_count": 12,
   "metadata": {},
   "outputs": [
    {
     "name": "stdout",
     "output_type": "stream",
     "text": [
      "Epoch 1/10\n",
      "1/1 [==============================] - 2s 2s/step - loss: 0.2442 - mae: 0.4924\n",
      "Epoch 2/10\n",
      "1/1 [==============================] - 0s 396ms/step - loss: 0.2440 - mae: 0.4923\n",
      "Epoch 3/10\n",
      "1/1 [==============================] - 1s 694ms/step - loss: 0.2433 - mae: 0.4916\n",
      "Epoch 4/10\n",
      "1/1 [==============================] - 1s 783ms/step - loss: 0.2366 - mae: 0.4846\n",
      "Epoch 5/10\n",
      "1/1 [==============================] - 1s 609ms/step - loss: 0.1819 - mae: 0.4230\n",
      "Epoch 6/10\n",
      "1/1 [==============================] - 0s 424ms/step - loss: 0.0313 - mae: 0.1559\n",
      "Epoch 7/10\n",
      "1/1 [==============================] - 1s 734ms/step - loss: 0.0115 - mae: 0.0202\n",
      "Epoch 8/10\n",
      "1/1 [==============================] - 1s 640ms/step - loss: 0.0139 - mae: 0.0214\n",
      "Epoch 9/10\n",
      "1/1 [==============================] - 0s 458ms/step - loss: 0.0162 - mae: 0.0230\n",
      "Epoch 10/10\n",
      "1/1 [==============================] - 1s 676ms/step - loss: 0.0173 - mae: 0.0234\n"
     ]
    },
    {
     "data": {
      "text/plain": [
       "<keras.src.callbacks.History at 0x34656a5f0>"
      ]
     },
     "execution_count": 12,
     "metadata": {},
     "output_type": "execute_result"
    }
   ],
   "source": [
    "# 이미지와 모션 벡터 결합\n",
    "# motion_vectors = calculate_motion_vectors(X[1:])  # X는 프레임 배열\n",
    "# X_combined = combine_frames_and_motion_vectors(X[1:], motion_vectors)\n",
    "\n",
    "# 모델 생성 및 훈련\n",
    "# input_shape = (128, 128, 5)  # 128x128 이미지에 모션 벡터 포함\n",
    "# output_frames = 9  # 출력 프레임 수\n",
    "\n",
    "model.fit(X, Y, epochs=50, batch_size=32, validation_split==0.1)\n"
   ]
  },
  {
   "cell_type": "code",
   "execution_count": 13,
   "metadata": {},
   "outputs": [
    {
     "name": "stdout",
     "output_type": "stream",
     "text": [
      "1/1 [==============================] - 0s 269ms/step\n",
      "1/1 [==============================] - 0s 49ms/step\n",
      "1/1 [==============================] - 0s 47ms/step\n",
      "1/1 [==============================] - 0s 45ms/step\n",
      "1/1 [==============================] - 0s 53ms/step\n",
      "1/1 [==============================] - 0s 53ms/step\n"
     ]
    }
   ],
   "source": [
    "refine_train = []\n",
    "\n",
    "for i in range(X.shape[0]):\n",
    "    predicted_frames = model.predict(np.expand_dims(X[i], axis=0))  # Add batch dimension\n",
    "    predicted_frames = predicted_frames.squeeze()  # Remove the batch dimension if needed\n",
    "    merged_frames = np.concatenate((np.expand_dims(X[i], axis=0), predicted_frames), axis=0)\n",
    "    refine_train.append(np.expand_dims(merged_frames, axis=0))\n",
    "    \n",
    "# print(f\"Predicted frames shape: {predicted_frames.shape}\")  # Should be (9, 128, 128, 3)\n",
    "\n",
    "# # Optionally, save the predicted frames or display them\n",
    "# for i in range(predicted_frames.shape[0]):\n",
    "#     frame = (predicted_frames[i] * 255).astype(np.uint8)  # Convert back to [0, 255]"
   ]
  },
  {
   "cell_type": "code",
   "execution_count": 15,
   "metadata": {},
   "outputs": [
    {
     "data": {
      "text/plain": [
       "(6, 10, 128, 128, 3)"
      ]
     },
     "execution_count": 15,
     "metadata": {},
     "output_type": "execute_result"
    }
   ],
   "source": [
    "refine_train = np.concatenate(refine_train, axis=0) \n",
    "refine_train.shape"
   ]
  },
  {
   "cell_type": "code",
   "execution_count": 16,
   "metadata": {},
   "outputs": [
    {
     "data": {
      "image/png": "[encoded data removed]",
      "text/plain": [
       "<Figure size 1500x500 with 10 Axes>"
      ]
     },
     "metadata": {},
     "output_type": "display_data"
    }
   ],
   "source": [
    "def display_predicted_frames(predicted_frames):\n",
    "    \"\"\"\n",
    "    Display predicted frames using Matplotlib.\n",
    "\n",
    "    Parameters:\n",
    "    predicted_frames (numpy array): Array of predicted frames.\n",
    "    \"\"\"\n",
    "    num_frames = predicted_frames.shape[0]\n",
    "\n",
    "    # Create a figure to display the frames\n",
    "    plt.figure(figsize=(15, 5))\n",
    "\n",
    "    for i in range(num_frames):\n",
    "        plt.subplot(1, num_frames, i + 1)  # Create a subplot for each frame\n",
    "        plt.imshow(predicted_frames[i])  # Display the frame\n",
    "        plt.axis('off')  # Hide the axes\n",
    "        plt.title(f'Frame {i}')  # Optional: add title to each frame\n",
    "\n",
    "    plt.tight_layout()  # Adjust subplots to fit in to the figure area.\n",
    "    plt.show()  # Show the plot\n",
    "\n",
    "display_predicted_frames(refine_train[3])"
   ]
  }
 ],
 "metadata": {
  "kernelspec": {
   "display_name": "Python 3.10.12 ('base')",
   "language": "python",
   "name": "python3"
  },
  "language_info": {
   "codemirror_mode": {
    "name": "ipython",
    "version": 3
   },
   "file_extension": ".py",
   "mimetype": "text/x-python",
   "name": "python",
   "nbconvert_exporter": "python",
   "pygments_lexer": "ipython3",
   "version": "3.10.12"
  },
  "orig_nbformat": 4,
  "vscode": {
   "interpreter": {
    "hash": "d9e3fe6970de9a44ca61ad7bd12ea76e8f89f1a3db951c3504dd8b849ec880ad"
   }
  }
 },
 "nbformat": 4,
 "nbformat_minor": 2
}
