{
 "cells": [
  {
   "cell_type": "code",
   "execution_count": 1,
   "id": "6541a7e2-a393-4b43-8c9e-fed38b683802",
   "metadata": {},
   "outputs": [],
   "source": [
    "import tensorflow as tf\n",
    "from tensorflow.keras import layers, models\n",
    "from PIL import Image\n",
    "import numpy as np\n",
    "import os\n",
    "\n",
    "import matplotlib.pyplot as plt\n",
    "from matplotlib.animation import FuncAnimation\n",
    "from IPython.display import HTML"
   ]
  },
  {
   "cell_type": "code",
   "execution_count": 2,
   "id": "c69d6788-f498-4f0b-8618-10eddceea748",
   "metadata": {},
   "outputs": [],
   "source": [
    "# custom loss function, taking into account the RGB values\n",
    "# 효과는 크게 없었지만, 논리적으로는 맞는 부분인 것 같음.\n",
    "\n",
    "from tensorflow.keras import backend as K\n",
    "\n",
    "# Custom loss function that applies MSE specifically to RGB channels\n",
    "def mse_rgb(y_true, y_pred):\n",
    "    # y_true and y_pred are assumed to be in shape (batch_size, height, width, 3)\n",
    "    return K.mean(K.square(y_true - y_pred), axis=-1)"
   ]
  },
  {
   "cell_type": "code",
   "execution_count": 3,
   "id": "d2228fdc-0e0a-4247-9870-5b41804bacc4",
   "metadata": {},
   "outputs": [
    {
     "name": "stderr",
     "output_type": "stream",
     "text": [
      "2024-10-25 16:16:49.249644: I metal_plugin/src/device/metal_device.cc:1154] Metal device set to: Apple M1\n",
      "2024-10-25 16:16:49.249671: I metal_plugin/src/device/metal_device.cc:296] systemMemory: 8.00 GB\n",
      "2024-10-25 16:16:49.249681: I metal_plugin/src/device/metal_device.cc:313] maxCacheSize: 2.67 GB\n",
      "2024-10-25 16:16:49.250122: I tensorflow/core/common_runtime/pluggable_device/pluggable_device_factory.cc:303] Could not identify NUMA node of platform GPU ID 0, defaulting to 0. Your kernel may not have been built with NUMA support.\n",
      "2024-10-25 16:16:49.250500: I tensorflow/core/common_runtime/pluggable_device/pluggable_device_factory.cc:269] Created TensorFlow device (/job:localhost/replica:0/task:0/device:GPU:0 with 0 MB memory) -> physical PluggableDevice (device: 0, name: METAL, pci bus id: <undefined>)\n"
     ]
    },
    {
     "name": "stdout",
     "output_type": "stream",
     "text": [
      "Model: \"frame_predictor_model\"\n",
      "_________________________________________________________________\n",
      " Layer (type)                Output Shape              Param #   \n",
      "=================================================================\n",
      " encoder_input (InputLayer)  [(None, 128, 128, 3)]     0         \n",
      "                                                                 \n",
      " conv2d (Conv2D)             (None, 128, 128, 64)      1792      \n",
      "                                                                 \n",
      " max_pooling2d (MaxPooling2  (None, 64, 64, 64)        0         \n",
      " D)                                                              \n",
      "                                                                 \n",
      " conv2d_1 (Conv2D)           (None, 64, 64, 128)       73856     \n",
      "                                                                 \n",
      " max_pooling2d_1 (MaxPoolin  (None, 32, 32, 128)       0         \n",
      " g2D)                                                            \n",
      "                                                                 \n",
      " conv2d_2 (Conv2D)           (None, 16, 16, 256)       295168    \n",
      "                                                                 \n",
      " flatten (Flatten)           (None, 65536)             0         \n",
      "                                                                 \n",
      " latent_vector (Dense)       (None, 512)               33554944  \n",
      "                                                                 \n",
      " dense (Dense)               (None, 49152)             25214976  \n",
      "                                                                 \n",
      " decoder_output (Reshape)    (None, 128, 128, 3)       0         \n",
      "                                                                 \n",
      "=================================================================\n",
      "Total params: 59140736 (225.60 MB)\n",
      "Trainable params: 59140736 (225.60 MB)\n",
      "Non-trainable params: 0 (0.00 Byte)\n",
      "_________________________________________________________________\n"
     ]
    }
   ],
   "source": [
    "# more pooling with stride instead of GAP2D\n",
    "\n",
    "def build_model(input_shape):\n",
    "    \"\"\"\n",
    "    Builds a CNN-based encoder-decoder model for animation frame prediction.\n",
    "    \n",
    "    Parameters:\n",
    "    input_shape (tuple): The shape of the input frame (height, width, channels).\n",
    "    output_frames (int): The number of frames to generate as output.\n",
    "    \n",
    "    Returns:\n",
    "    model: The compiled Keras model.\n",
    "    \"\"\"\n",
    "    # Encoder\n",
    "    encoder_input = layers.Input(shape=input_shape, name='encoder_input')\n",
    "    \n",
    "    # CNN layers to encode the first frame\n",
    "    x = layers.Conv2D(64, (3, 3), padding='same', activation='relu')(encoder_input)\n",
    "    x = layers.MaxPooling2D((2, 2))(x)\n",
    "    x = layers.Conv2D(128, (3, 3), padding='same', activation='relu')(x)\n",
    "    x = layers.MaxPooling2D((2, 2))(x)\n",
    "    x = layers.Conv2D(256, (3, 3), strides=2, padding='same', activation='relu')(x)\n",
    "    \n",
    "    # Flatten the output of the convolutional layers\n",
    "    x = layers.Flatten()(x)\n",
    "\n",
    "    # Latent representation\n",
    "    latent = layers.Dense(512, activation='relu', name='latent_vector')(x)\n",
    "\n",
    "    # Decoder (generate multiple frames)\n",
    "    decoder_output = layers.Dense(input_shape[0] * input_shape[1] * input_shape[2], activation='sigmoid')(latent)\n",
    "    \n",
    "    # Reshape to the desired output shape (frames, height, width, channels)\n",
    "    decoder_output = layers.Reshape((input_shape[0], input_shape[1], input_shape[2]), name='decoder_output')(decoder_output)\n",
    "\n",
    "    # Build and compile the model\n",
    "    model = models.Model(encoder_input, decoder_output, name='frame_predictor_model')\n",
    "    \n",
    "    model.compile(optimizer='adam', loss=mse_rgb, metrics=['mae'])\n",
    "    return model\n",
    "\n",
    "# Define input shape for 128x128x3 images\n",
    "input_shape = (128, 128, 3)  # Height, Width, Channels\n",
    "\n",
    "# Build the model\n",
    "model = build_model(input_shape)\n",
    "\n",
    "# Print model summary\n",
    "model.summary()"
   ]
  },
  {
   "cell_type": "code",
   "execution_count": 4,
   "id": "c20e4a1f-7a12-4a20-a48e-9f2a9a14b8c3",
   "metadata": {},
   "outputs": [
    {
     "name": "stdout",
     "output_type": "stream",
     "text": [
      "X shape: (6, 128, 128, 3)\n",
      "Y shape: (6, 128, 128, 3)\n"
     ]
    }
   ],
   "source": [
    "import numpy as np\n",
    "from PIL import Image\n",
    "\n",
    "def process_sprite_data(sprite_sheet_paths, num_frames, position):\n",
    "    \"\"\"\n",
    "    Processes sprite sheets and returns animation data without saving individual images.\n",
    "    \n",
    "    Parameters:\n",
    "    sprite_sheet_paths (list): List of paths to the sprite sheet images.\n",
    "    num_frames (int): Total number of frames (sprites) in the sprite sheet.\n",
    "    position (int): The frame position to be used as output data (Y).\n",
    "    \n",
    "    Returns:\n",
    "    X (numpy array): Array of input frames (first frame of each animation sequence).\n",
    "    Y (numpy array): Array of output frames (position-th frame of each animation sequence).\n",
    "    \"\"\"\n",
    "    # Initialize lists for input (X) and output (Y) frames\n",
    "    X = []\n",
    "    Y = []\n",
    "    \n",
    "    # Process each sprite sheet in the provided paths\n",
    "    for i in range(len(sprite_sheet_paths)):\n",
    "        sprite_sheet = Image.open(sprite_sheet_paths[i])\n",
    "        \n",
    "        # Get sprite sheet dimensions\n",
    "        sheet_width, sheet_height = sprite_sheet.size\n",
    "        \n",
    "        # Calculate the width and height of each frame\n",
    "        frame_width = sheet_width // num_frames\n",
    "        frame_height = sheet_height  # Height of each frame is the same as the height of the sprite sheet\n",
    "        \n",
    "        # Loop through each frame in the sprite sheet\n",
    "        for frame_num in range(num_frames):\n",
    "            # Calculate the coordinates of the sprite in the sprite sheet\n",
    "            left = frame_num * frame_width\n",
    "            upper = 0\n",
    "            right = left + frame_width\n",
    "            lower = frame_height\n",
    "            \n",
    "            # Crop the sprite from the sprite sheet\n",
    "            frame = sprite_sheet.crop((left, upper, right, lower))\n",
    "            \n",
    "            # Resize to 128x128 if needed and convert to RGB\n",
    "            frame = frame.convert('RGB').resize((128, 128))\n",
    "            \n",
    "            # Normalize pixel values to [0, 1]\n",
    "            frame_array = np.array(frame) / 255.0\n",
    "            \n",
    "            # Append the first frame to X and the specified position frame to Y\n",
    "            if frame_num == 0:\n",
    "                X.append(frame_array)  # The first frame goes into X\n",
    "            if frame_num == position:  # Append the position-th frame to Y\n",
    "                Y.append(frame_array)\n",
    "    \n",
    "    return np.array(X), np.array(Y)\n",
    "\n",
    "# Example usage\n",
    "sprite_sheet_paths = [\n",
    "    '/Users/lofichill/Desktop/NIPA/a-yo-image/initial-experiments/tomato/image folder/City_men_1_10f/Walk.png',\n",
    "    '/Users/lofichill/Desktop/NIPA/a-yo-image/initial-experiments/tomato/image folder/City_men_2_10f/Walk.png',\n",
    "    '/Users/lofichill/Desktop/NIPA/a-yo-image/initial-experiments/tomato/image folder/City_men_3_10f/Walk.png',\n",
    "    '/Users/lofichill/Desktop/NIPA/a-yo-image/initial-experiments/tomato/image folder/Gangsters_1_10f/Walk.png',\n",
    "    '/Users/lofichill/Desktop/NIPA/a-yo-image/initial-experiments/tomato/image folder/Gangsters_2_10f/Walk.png',\n",
    "    '/Users/lofichill/Desktop/NIPA/a-yo-image/initial-experiments/tomato/image folder/Gangsters_3_10f/Walk.png'\n",
    "]\n",
    "num_frames = 10  # Number of frames in the sprite sheet\n",
    "position = 4  # The position of the frame to be used as output (Y)\n",
    "\n",
    "X, Y = process_sprite_data(sprite_sheet_paths, num_frames, position)\n",
    "\n",
    "print(f\"X shape: {X.shape}\")  # Should be (num_sequences, 128, 128, 3)\n",
    "print(f\"Y shape: {Y.shape}\")  # Should be (num_sequences, 128, 128, 3) (only the position-th frame)"
   ]
  },
  {
   "cell_type": "code",
   "execution_count": 5,
   "id": "7cc8da57-1a67-49da-a601-368c67c9c07a",
   "metadata": {},
   "outputs": [
    {
     "name": "stdout",
     "output_type": "stream",
     "text": [
      "Epoch 1/50\n"
     ]
    },
    {
     "name": "stderr",
     "output_type": "stream",
     "text": [
      "2024-10-25 16:16:50.162683: I tensorflow/core/grappler/optimizers/custom_graph_optimizer_registry.cc:114] Plugin optimizer for device_type GPU is enabled.\n"
     ]
    },
    {
     "name": "stdout",
     "output_type": "stream",
     "text": [
      "1/1 [==============================] - ETA: 0s - loss: 0.2440 - mae: 0.4923"
     ]
    },
    {
     "name": "stderr",
     "output_type": "stream",
     "text": [
      "2024-10-25 16:16:51.479224: I tensorflow/core/grappler/optimizers/custom_graph_optimizer_registry.cc:114] Plugin optimizer for device_type GPU is enabled.\n"
     ]
    },
    {
     "name": "stdout",
     "output_type": "stream",
     "text": [
      "1/1 [==============================] - 2s 2s/step - loss: 0.2440 - mae: 0.4923 - val_loss: 0.2440 - val_mae: 0.4925\n",
      "Epoch 2/50\n",
      "1/1 [==============================] - 0s 146ms/step - loss: 0.2427 - mae: 0.4909 - val_loss: 0.2231 - val_mae: 0.4699\n",
      "Epoch 3/50\n",
      "1/1 [==============================] - 0s 153ms/step - loss: 0.2221 - mae: 0.4686 - val_loss: 0.1094 - val_mae: 0.3162\n",
      "Epoch 4/50\n",
      "1/1 [==============================] - 0s 148ms/step - loss: 0.1106 - mae: 0.3170 - val_loss: 0.0095 - val_mae: 0.0501\n",
      "Epoch 5/50\n",
      "1/1 [==============================] - 0s 200ms/step - loss: 0.0159 - mae: 0.0575 - val_loss: 0.0068 - val_mae: 0.0131\n",
      "Epoch 6/50\n",
      "1/1 [==============================] - 0s 162ms/step - loss: 0.0137 - mae: 0.0213 - val_loss: 0.0084 - val_mae: 0.0147\n",
      "Epoch 7/50\n",
      "1/1 [==============================] - 0s 162ms/step - loss: 0.0149 - mae: 0.0225 - val_loss: 0.0105 - val_mae: 0.0166\n",
      "Epoch 8/50\n",
      "1/1 [==============================] - 0s 161ms/step - loss: 0.0163 - mae: 0.0236 - val_loss: 0.0114 - val_mae: 0.0167\n",
      "Epoch 9/50\n",
      "1/1 [==============================] - 0s 148ms/step - loss: 0.0175 - mae: 0.0240 - val_loss: 0.0116 - val_mae: 0.0166\n",
      "Epoch 10/50\n",
      "1/1 [==============================] - 0s 153ms/step - loss: 0.0179 - mae: 0.0242 - val_loss: 0.0119 - val_mae: 0.0168\n",
      "Epoch 11/50\n",
      "1/1 [==============================] - 0s 169ms/step - loss: 0.0182 - mae: 0.0243 - val_loss: 0.0118 - val_mae: 0.0166\n",
      "Epoch 12/50\n",
      "1/1 [==============================] - 0s 159ms/step - loss: 0.0184 - mae: 0.0244 - val_loss: 0.0120 - val_mae: 0.0167\n",
      "Epoch 13/50\n",
      "1/1 [==============================] - 0s 153ms/step - loss: 0.0185 - mae: 0.0245 - val_loss: 0.0121 - val_mae: 0.0168\n",
      "Epoch 14/50\n",
      "1/1 [==============================] - 0s 131ms/step - loss: 0.0185 - mae: 0.0245 - val_loss: 0.0122 - val_mae: 0.0169\n",
      "Epoch 15/50\n",
      "1/1 [==============================] - 0s 124ms/step - loss: 0.0185 - mae: 0.0245 - val_loss: 0.0122 - val_mae: 0.0169\n",
      "Epoch 16/50\n",
      "1/1 [==============================] - 0s 124ms/step - loss: 0.0186 - mae: 0.0246 - val_loss: 0.0122 - val_mae: 0.0169\n",
      "Epoch 17/50\n",
      "1/1 [==============================] - 0s 129ms/step - loss: 0.0186 - mae: 0.0246 - val_loss: 0.0122 - val_mae: 0.0169\n",
      "Epoch 18/50\n",
      "1/1 [==============================] - 0s 131ms/step - loss: 0.0186 - mae: 0.0246 - val_loss: 0.0122 - val_mae: 0.0169\n",
      "Epoch 19/50\n",
      "1/1 [==============================] - 0s 141ms/step - loss: 0.0186 - mae: 0.0246 - val_loss: 0.0122 - val_mae: 0.0169\n",
      "Epoch 20/50\n",
      "1/1 [==============================] - 0s 142ms/step - loss: 0.0186 - mae: 0.0246 - val_loss: 0.0123 - val_mae: 0.0170\n",
      "Epoch 21/50\n",
      "1/1 [==============================] - 0s 139ms/step - loss: 0.0186 - mae: 0.0246 - val_loss: 0.0123 - val_mae: 0.0170\n",
      "Epoch 22/50\n",
      "1/1 [==============================] - 0s 128ms/step - loss: 0.0186 - mae: 0.0246 - val_loss: 0.0123 - val_mae: 0.0170\n",
      "Epoch 23/50\n",
      "1/1 [==============================] - 0s 127ms/step - loss: 0.0186 - mae: 0.0246 - val_loss: 0.0123 - val_mae: 0.0171\n",
      "Epoch 24/50\n",
      "1/1 [==============================] - 0s 131ms/step - loss: 0.0187 - mae: 0.0247 - val_loss: 0.0123 - val_mae: 0.0171\n",
      "Epoch 25/50\n",
      "1/1 [==============================] - 0s 130ms/step - loss: 0.0187 - mae: 0.0247 - val_loss: 0.0124 - val_mae: 0.0171\n",
      "Epoch 26/50\n",
      "1/1 [==============================] - 0s 126ms/step - loss: 0.0187 - mae: 0.0247 - val_loss: 0.0124 - val_mae: 0.0171\n",
      "Epoch 27/50\n",
      "1/1 [==============================] - 0s 125ms/step - loss: 0.0187 - mae: 0.0247 - val_loss: 0.0124 - val_mae: 0.0171\n",
      "Epoch 28/50\n",
      "1/1 [==============================] - 0s 128ms/step - loss: 0.0187 - mae: 0.0247 - val_loss: 0.0124 - val_mae: 0.0171\n",
      "Epoch 29/50\n",
      "1/1 [==============================] - 0s 143ms/step - loss: 0.0187 - mae: 0.0247 - val_loss: 0.0124 - val_mae: 0.0172\n",
      "Epoch 30/50\n",
      "1/1 [==============================] - 0s 157ms/step - loss: 0.0187 - mae: 0.0247 - val_loss: 0.0124 - val_mae: 0.0172\n",
      "Epoch 31/50\n",
      "1/1 [==============================] - 0s 136ms/step - loss: 0.0187 - mae: 0.0247 - val_loss: 0.0125 - val_mae: 0.0172\n",
      "Epoch 32/50\n",
      "1/1 [==============================] - 0s 127ms/step - loss: 0.0187 - mae: 0.0247 - val_loss: 0.0124 - val_mae: 0.0172\n",
      "Epoch 33/50\n",
      "1/1 [==============================] - 0s 124ms/step - loss: 0.0188 - mae: 0.0247 - val_loss: 0.0124 - val_mae: 0.0172\n",
      "Epoch 34/50\n",
      "1/1 [==============================] - 0s 125ms/step - loss: 0.0188 - mae: 0.0248 - val_loss: 0.0125 - val_mae: 0.0172\n",
      "Epoch 35/50\n",
      "1/1 [==============================] - 0s 128ms/step - loss: 0.0188 - mae: 0.0248 - val_loss: 0.0124 - val_mae: 0.0172\n",
      "Epoch 36/50\n",
      "1/1 [==============================] - 0s 133ms/step - loss: 0.0188 - mae: 0.0248 - val_loss: 0.0125 - val_mae: 0.0172\n",
      "Epoch 37/50\n",
      "1/1 [==============================] - 0s 130ms/step - loss: 0.0188 - mae: 0.0248 - val_loss: 0.0125 - val_mae: 0.0172\n",
      "Epoch 38/50\n",
      "1/1 [==============================] - 0s 127ms/step - loss: 0.0188 - mae: 0.0248 - val_loss: 0.0125 - val_mae: 0.0172\n",
      "Epoch 39/50\n",
      "1/1 [==============================] - 0s 128ms/step - loss: 0.0188 - mae: 0.0248 - val_loss: 0.0125 - val_mae: 0.0172\n",
      "Epoch 40/50\n",
      "1/1 [==============================] - 0s 130ms/step - loss: 0.0188 - mae: 0.0248 - val_loss: 0.0125 - val_mae: 0.0172\n",
      "Epoch 41/50\n",
      "1/1 [==============================] - 0s 129ms/step - loss: 0.0188 - mae: 0.0248 - val_loss: 0.0125 - val_mae: 0.0172\n",
      "Epoch 42/50\n",
      "1/1 [==============================] - 0s 126ms/step - loss: 0.0188 - mae: 0.0248 - val_loss: 0.0125 - val_mae: 0.0172\n",
      "Epoch 43/50\n",
      "1/1 [==============================] - 0s 128ms/step - loss: 0.0188 - mae: 0.0248 - val_loss: 0.0125 - val_mae: 0.0172\n",
      "Epoch 44/50\n",
      "1/1 [==============================] - 0s 135ms/step - loss: 0.0188 - mae: 0.0248 - val_loss: 0.0125 - val_mae: 0.0172\n",
      "Epoch 45/50\n",
      "1/1 [==============================] - 0s 145ms/step - loss: 0.0188 - mae: 0.0248 - val_loss: 0.0125 - val_mae: 0.0172\n",
      "Epoch 46/50\n",
      "1/1 [==============================] - 0s 141ms/step - loss: 0.0188 - mae: 0.0248 - val_loss: 0.0125 - val_mae: 0.0172\n",
      "Epoch 47/50\n",
      "1/1 [==============================] - 0s 133ms/step - loss: 0.0188 - mae: 0.0248 - val_loss: 0.0125 - val_mae: 0.0172\n",
      "Epoch 48/50\n",
      "1/1 [==============================] - 0s 134ms/step - loss: 0.0188 - mae: 0.0248 - val_loss: 0.0125 - val_mae: 0.0172\n",
      "Epoch 49/50\n",
      "1/1 [==============================] - 0s 133ms/step - loss: 0.0188 - mae: 0.0248 - val_loss: 0.0125 - val_mae: 0.0172\n",
      "Epoch 50/50\n",
      "1/1 [==============================] - 0s 144ms/step - loss: 0.0188 - mae: 0.0248 - val_loss: 0.0125 - val_mae: 0.0172\n"
     ]
    },
    {
     "data": {
      "text/plain": [
       "<keras.src.callbacks.History at 0x1696e5ac0>"
      ]
     },
     "execution_count": 5,
     "metadata": {},
     "output_type": "execute_result"
    }
   ],
   "source": [
    "# Train the model without the first example\n",
    "model.fit(X[1:], Y[1:], epochs=50, batch_size=32, validation_split=0.1)"
   ]
  },
  {
   "cell_type": "code",
   "execution_count": 23,
   "id": "3160be1b-1cff-4cb2-bff6-9a4a9a92bcbe",
   "metadata": {},
   "outputs": [
    {
     "name": "stdout",
     "output_type": "stream",
     "text": [
      "1/1 [==============================] - 0s 486ms/step\n"
     ]
    }
   ],
   "source": [
    "predicted_frame = model.predict(X)  # Add batch dimension"
   ]
  },
  {
   "cell_type": "code",
   "execution_count": 24,
   "id": "00080e85-87d6-4b4c-8cf0-ad7696da600a",
   "metadata": {},
   "outputs": [
    {
     "data": {
      "text/plain": [
       "(6, 128, 128, 3)"
      ]
     },
     "execution_count": 24,
     "metadata": {},
     "output_type": "execute_result"
    }
   ],
   "source": [
    "X.shape"
   ]
  },
  {
   "cell_type": "code",
   "execution_count": 27,
   "id": "8458909f-1160-4575-9f00-c1171d0ec921",
   "metadata": {},
   "outputs": [
    {
     "name": "stdout",
     "output_type": "stream",
     "text": [
      "1/1 [==============================] - 0s 17ms/step\n",
      "1/1 [==============================] - 0s 14ms/step\n",
      "1/1 [==============================] - 0s 14ms/step\n",
      "1/1 [==============================] - 0s 14ms/step\n",
      "1/1 [==============================] - 0s 14ms/step\n",
      "1/1 [==============================] - 0s 14ms/step\n"
     ]
    },
    {
     "data": {
      "text/plain": [
       "(6, 128, 128, 3)"
      ]
     },
     "execution_count": 27,
     "metadata": {},
     "output_type": "execute_result"
    }
   ],
   "source": [
    "refine_train = []\n",
    "\n",
    "for i in range(X.shape[0]):\n",
    "    predicted_frames = model.predict(np.expand_dims(X[i], axis=0))  # Add batch dimension\n",
    "    predicted_frames = predicted_frames.squeeze()  # Remove the batch dimension if needed\n",
    "    refine_train.append(np.expand_dims(predicted_frames, axis=0))\n",
    "\n",
    "\n",
    "refine_train = np.concatenate(refine_train, axis=0) \n",
    "refine_train.shape"
   ]
  },
  {
   "cell_type": "code",
   "execution_count": 29,
   "id": "583f5dbe-42ae-4993-8eaf-5d9e10677a22",
   "metadata": {},
   "outputs": [
    {
     "data": {
      "image/png": "[encoded data removed]",
      "text/plain": [
       "<Figure size 1500x500 with 6 Axes>"
      ]
     },
     "metadata": {},
     "output_type": "display_data"
    }
   ],
   "source": [
    "def display_predicted_frames(predicted_frames):\n",
    "    \"\"\"\n",
    "    Display predicted frames using Matplotlib.\n",
    "\n",
    "    Parameters:\n",
    "    predicted_frames (numpy array): Array of predicted frames.\n",
    "    \"\"\"\n",
    "    num_frames = predicted_frames.shape[0]\n",
    "\n",
    "    # Create a figure to display the frames\n",
    "    plt.figure(figsize=(15, 5))\n",
    "\n",
    "    for i in range(num_frames):\n",
    "        plt.subplot(1, num_frames, i + 1)  # Create a subplot for each frame\n",
    "        plt.imshow(predicted_frames[i])  # Display the frame\n",
    "        plt.axis('off')  # Hide the axes\n",
    "        plt.title(f'Frame {i}')  # Optional: add title to each frame\n",
    "\n",
    "    plt.tight_layout()  # Adjust subplots to fit in to the figure area.\n",
    "    plt.show()  # Show the plot\n",
    "\n",
    "display_predicted_frames(refine_train)"
   ]
  },
  {
   "cell_type": "code",
   "execution_count": 44,
   "id": "dc52b81e-7693-421a-ab7e-23c815ad32dd",
   "metadata": {},
   "outputs": [
    {
     "name": "stdout",
     "output_type": "stream",
     "text": [
      "Model: \"frame_predictor_model\"\n",
      "_________________________________________________________________\n",
      " Layer (type)                Output Shape              Param #   \n",
      "=================================================================\n",
      " input (InputLayer)          [(None, 128, 128, 3)]     0         \n",
      "                                                                 \n",
      " flatten_6 (Flatten)         (None, 49152)             0         \n",
      "                                                                 \n",
      " dense_11 (Dense)            (None, 1024)              50332672  \n",
      "                                                                 \n",
      " dense_12 (Dense)            (None, 3)                 3075      \n",
      "                                                                 \n",
      " dense_13 (Dense)            (None, 49152)             196608    \n",
      "                                                                 \n",
      " reshape_3 (Reshape)         (None, 128, 128, 3)       0         \n",
      "                                                                 \n",
      "=================================================================\n",
      "Total params: 50532355 (192.77 MB)\n",
      "Trainable params: 50532355 (192.77 MB)\n",
      "Non-trainable params: 0 (0.00 Byte)\n",
      "_________________________________________________________________\n"
     ]
    }
   ],
   "source": [
    "def refinement_model(input_shape):\n",
    "    # Encoder\n",
    "    input = layers.Input(shape=input_shape, name='input')  # Use the provided input shape\n",
    "    # Flatten the input\n",
    "    flatten = layers.Flatten()(input)\n",
    "    \n",
    "    dense1 = layers.Dense(1024, activation='relu')(flatten)\n",
    "    dropout1 = layers.Dropout(0.3)(dense1)\n",
    "\n",
    "    # Dense layer\n",
    "    dense2 = layers.Dense(3, activation='relu')(dense1)  # Use the flattened input\n",
    "\n",
    "    # Decoder: Dense layer to predict frames in a single flattened vector\n",
    "    decoder_output = layers.Dense(49152, activation='sigmoid')(dense2)\n",
    "\n",
    "    # Reshape the decoder output to match the target shape (batch_size, height, width, channels)\n",
    "    decoder_output_reshaped = layers.Reshape((128, 128, 3))(decoder_output)  # Use a single tuple for the shape\n",
    "\n",
    "    # Create the model\n",
    "    model = models.Model(input, decoder_output_reshaped, name='frame_predictor_model')\n",
    "\n",
    "    # Compile the model\n",
    "    model.compile(optimizer='adam', loss=mse_rgb, metrics=['mae'])\n",
    "\n",
    "    return model\n",
    "\n",
    "# Define input shape as (height, width, channels)\n",
    "input_shape = (128, 128, 3)  # Example: each frame is 128x128 with 3 channels (RGB)\n",
    "\n",
    "# Build the refinement model\n",
    "refinement_model = refinement_model(input_shape)\n",
    "refinement_model.summary()"
   ]
  },
  {
   "cell_type": "code",
   "execution_count": 48,
   "id": "0b566f51-7999-41bf-967e-f4ccd3c3f5c4",
   "metadata": {},
   "outputs": [
    {
     "data": {
      "text/plain": [
       "(6, 128, 128, 3)"
      ]
     },
     "execution_count": 48,
     "metadata": {},
     "output_type": "execute_result"
    }
   ],
   "source": [
    "refine_train.shape"
   ]
  },
  {
   "cell_type": "code",
   "execution_count": 45,
   "id": "044cdb18-36ee-4582-9767-ec6ddd859465",
   "metadata": {},
   "outputs": [
    {
     "name": "stdout",
     "output_type": "stream",
     "text": [
      "Epoch 1/20\n"
     ]
    },
    {
     "name": "stderr",
     "output_type": "stream",
     "text": [
      "2024-10-25 17:08:38.727511: I tensorflow/core/grappler/optimizers/custom_graph_optimizer_registry.cc:114] Plugin optimizer for device_type GPU is enabled.\n"
     ]
    },
    {
     "name": "stdout",
     "output_type": "stream",
     "text": [
      "1/1 [==============================] - 1s 829ms/step - loss: 0.2443 - mae: 0.4926\n",
      "Epoch 2/20\n",
      "1/1 [==============================] - 0s 66ms/step - loss: 0.2413 - mae: 0.4820\n",
      "Epoch 3/20\n",
      "1/1 [==============================] - 0s 66ms/step - loss: 0.3380 - mae: 0.5418\n",
      "Epoch 4/20\n",
      "1/1 [==============================] - 0s 65ms/step - loss: 0.3918 - mae: 0.5386\n",
      "Epoch 5/20\n",
      "1/1 [==============================] - 0s 67ms/step - loss: 0.3986 - mae: 0.5135\n",
      "Epoch 6/20\n",
      "1/1 [==============================] - 0s 68ms/step - loss: 0.3825 - mae: 0.4792\n",
      "Epoch 7/20\n",
      "1/1 [==============================] - 0s 68ms/step - loss: 0.3428 - mae: 0.4275\n",
      "Epoch 8/20\n",
      "1/1 [==============================] - 0s 74ms/step - loss: 0.2963 - mae: 0.3719\n",
      "Epoch 9/20\n",
      "1/1 [==============================] - 0s 144ms/step - loss: 0.2474 - mae: 0.3150\n",
      "Epoch 10/20\n",
      "1/1 [==============================] - 0s 79ms/step - loss: 0.2000 - mae: 0.2595\n",
      "Epoch 11/20\n",
      "1/1 [==============================] - 0s 74ms/step - loss: 0.1577 - mae: 0.2087\n",
      "Epoch 12/20\n",
      "1/1 [==============================] - 0s 72ms/step - loss: 0.1230 - mae: 0.1651\n",
      "Epoch 13/20\n",
      "1/1 [==============================] - 0s 75ms/step - loss: 0.0961 - mae: 0.1301\n",
      "Epoch 14/20\n",
      "1/1 [==============================] - 0s 79ms/step - loss: 0.0761 - mae: 0.1033\n",
      "Epoch 15/20\n",
      "1/1 [==============================] - 0s 78ms/step - loss: 0.0615 - mae: 0.0835\n",
      "Epoch 16/20\n",
      "1/1 [==============================] - 0s 77ms/step - loss: 0.0508 - mae: 0.0691\n",
      "Epoch 17/20\n",
      "1/1 [==============================] - 0s 83ms/step - loss: 0.0431 - mae: 0.0587\n",
      "Epoch 18/20\n",
      "1/1 [==============================] - 0s 83ms/step - loss: 0.0373 - mae: 0.0513\n",
      "Epoch 19/20\n",
      "1/1 [==============================] - 0s 81ms/step - loss: 0.0330 - mae: 0.0458\n",
      "Epoch 20/20\n",
      "1/1 [==============================] - 0s 81ms/step - loss: 0.0295 - mae: 0.0417\n"
     ]
    },
    {
     "data": {
      "text/plain": [
       "<keras.src.callbacks.History at 0x2efd90100>"
      ]
     },
     "execution_count": 45,
     "metadata": {},
     "output_type": "execute_result"
    }
   ],
   "source": [
    "refinement_model.fit(refine_train, Y, epochs=20, batch_size=32)"
   ]
  },
  {
   "cell_type": "code",
   "execution_count": 46,
   "id": "25029128-ef23-4f0c-9b5b-8fb291b9251c",
   "metadata": {},
   "outputs": [
    {
     "name": "stdout",
     "output_type": "stream",
     "text": [
      "1/1 [==============================] - 0s 22ms/step\n",
      "1/1 [==============================] - 0s 15ms/step\n",
      "1/1 [==============================] - 0s 14ms/step\n",
      "1/1 [==============================] - 0s 14ms/step\n",
      "1/1 [==============================] - 0s 14ms/step\n",
      "1/1 [==============================] - 0s 14ms/step\n",
      "(6, 128, 128, 3)\n"
     ]
    }
   ],
   "source": [
    "refined_frames = []\n",
    "\n",
    "for i in range(X.shape[0]):\n",
    "    # Predict frames, adding batch dimension\n",
    "    predicted_frames = model.predict(np.expand_dims(X[i], axis=0))  # Shape: (1, 128, 128, 3)\n",
    "    \n",
    "    # Squeeze to remove the batch dimension (results in shape: (128, 128, 3))\n",
    "    predicted_frames = predicted_frames.squeeze()  \n",
    "    \n",
    "    # Append the predicted frames directly (do not add an extra dimension)\n",
    "    refined_frames.append(predicted_frames)\n",
    "\n",
    "# Convert the list of frames to a numpy array\n",
    "refined_frames = np.array(refined_frames)  # Correctly create an ndarray\n",
    "print(refined_frames.shape)  # This should give you the shape of refined frames\n"
   ]
  },
  {
   "cell_type": "code",
   "execution_count": 49,
   "id": "74da5c18-747e-46e7-8fe9-00f83583886f",
   "metadata": {},
   "outputs": [
    {
     "data": {
      "image/png": "[encoded data removed]",
      "text/plain": [
       "<Figure size 1500x500 with 6 Axes>"
      ]
     },
     "metadata": {},
     "output_type": "display_data"
    }
   ],
   "source": [
    "display_predicted_frames(refine_train)"
   ]
  },
  {
   "cell_type": "code",
   "execution_count": 47,
   "id": "fbbd7c9f-7aa2-4bec-a6e8-3c38f9766c04",
   "metadata": {},
   "outputs": [
    {
     "data": {
      "image/png": "[encoded data removed]",
      "text/plain": [
       "<Figure size 1500x500 with 6 Axes>"
      ]
     },
     "metadata": {},
     "output_type": "display_data"
    }
   ],
   "source": [
    "display_predicted_frames(refined_frames)"
   ]
  },
  {
   "cell_type": "code",
   "execution_count": null,
   "id": "6cb12042-bd7e-488b-ae03-ff6f1ee009f8",
   "metadata": {},
   "outputs": [],
   "source": []
  }
 ],
 "metadata": {
  "kernelspec": {
   "display_name": "Python 3 (ipykernel)",
   "language": "python",
   "name": "python3"
  },
  "language_info": {
   "codemirror_mode": {
    "name": "ipython",
    "version": 3
   },
   "file_extension": ".py",
   "mimetype": "text/x-python",
   "name": "python",
   "nbconvert_exporter": "python",
   "pygments_lexer": "ipython3",
   "version": "3.8.16"
  }
 },
 "nbformat": 4,
 "nbformat_minor": 5
}
