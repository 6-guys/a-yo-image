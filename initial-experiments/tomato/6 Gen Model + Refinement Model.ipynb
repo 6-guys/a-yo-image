{
 "cells": [
  {
   "cell_type": "code",
   "execution_count": 75,
   "id": "6541a7e2-a393-4b43-8c9e-fed38b683802",
   "metadata": {},
   "outputs": [],
   "source": [
    "import tensorflow as tf\n",
    "from tensorflow.keras import layers, models\n",
    "from PIL import Image\n",
    "import numpy as np\n",
    "import os\n",
    "\n",
    "import matplotlib.pyplot as plt\n",
    "from matplotlib.animation import FuncAnimation\n",
    "from IPython.display import HTML"
   ]
  },
  {
   "cell_type": "code",
   "execution_count": 76,
   "id": "c69d6788-f498-4f0b-8618-10eddceea748",
   "metadata": {},
   "outputs": [],
   "source": [
    "# custom loss function, taking into account the RGB values\n",
    "# 효과는 크게 없었지만, 논리적으로는 맞는 부분인 것 같음.\n",
    "\n",
    "from tensorflow.keras import backend as K\n",
    "\n",
    "# Custom loss function that applies MSE specifically to RGB channels\n",
    "def mse_rgb(y_true, y_pred):\n",
    "    # y_true and y_pred are assumed to be in shape (batch_size, height, width, 3)\n",
    "    return K.mean(K.square(y_true - y_pred), axis=-1)"
   ]
  },
  {
   "cell_type": "code",
   "execution_count": 77,
   "id": "d2228fdc-0e0a-4247-9870-5b41804bacc4",
   "metadata": {},
   "outputs": [],
   "source": [
    "# more pooling with stride instead of GAP2D\n",
    "\n",
    "def build_model(input_shape, output_frames):\n",
    "    \"\"\"\n",
    "    Builds a CNN-based encoder-decoder model for animation frame prediction.\n",
    "    \n",
    "    Parameters:\n",
    "    input_shape (tuple): The shape of the input frame (height, width, channels).\n",
    "    output_frames (int): The number of frames to generate as output.\n",
    "    \n",
    "    Returns:\n",
    "    model: The compiled Keras model.\n",
    "    \"\"\"\n",
    "    # Encoder\n",
    "    encoder_input = layers.Input(shape=input_shape, name='encoder_input')\n",
    "    \n",
    "    # CNN layers to encode the first frame\n",
    "    x = layers.Conv2D(64, (3, 3), padding='same', activation='relu')(encoder_input)\n",
    "    x = layers.MaxPooling2D((2, 2))(x)\n",
    "    x = layers.Conv2D(128, (3, 3), padding='same', activation='relu')(x)\n",
    "    x = layers.MaxPooling2D((2, 2))(x)\n",
    "    x = layers.Conv2D(256, (3, 3), strides=2, padding='same', activation='relu')(x)\n",
    "    \n",
    "    # Flatten the output of the convolutional layers\n",
    "    x = layers.Flatten()(x)\n",
    "\n",
    "    # Latent representation\n",
    "    latent = layers.Dense(512, activation='relu', name='latent_vector')(x)\n",
    "\n",
    "    # Decoder (generate multiple frames)\n",
    "    decoder_output = layers.Dense(output_frames * input_shape[0] * input_shape[1] * input_shape[2], activation='sigmoid')(latent)\n",
    "    \n",
    "    # Reshape to the desired output shape (frames, height, width, channels)\n",
    "    decoder_output = layers.Reshape((output_frames, input_shape[0], input_shape[1], input_shape[2]), name='decoder_output')(decoder_output)\n",
    "\n",
    "    # Build and compile the model\n",
    "    model = models.Model(encoder_input, decoder_output, name='frame_predictor_model')\n",
    "    \n",
    "    model.compile(optimizer='adam', loss=mse_rgb, metrics=['mae'])\n",
    "    return model"
   ]
  },
  {
   "cell_type": "code",
   "execution_count": 78,
   "id": "beb5de3d-bc13-47c1-b83d-db212ea6c98a",
   "metadata": {},
   "outputs": [
    {
     "name": "stdout",
     "output_type": "stream",
     "text": [
      "Model: \"frame_predictor_model\"\n",
      "_________________________________________________________________\n",
      " Layer (type)                Output Shape              Param #   \n",
      "=================================================================\n",
      " encoder_input (InputLayer)  [(None, 128, 128, 3)]     0         \n",
      "                                                                 \n",
      " conv2d_43 (Conv2D)          (None, 128, 128, 64)      1792      \n",
      "                                                                 \n",
      " max_pooling2d_15 (MaxPooli  (None, 64, 64, 64)        0         \n",
      " ng2D)                                                           \n",
      "                                                                 \n",
      " conv2d_44 (Conv2D)          (None, 64, 64, 128)       73856     \n",
      "                                                                 \n",
      " max_pooling2d_16 (MaxPooli  (None, 32, 32, 128)       0         \n",
      " ng2D)                                                           \n",
      "                                                                 \n",
      " conv2d_45 (Conv2D)          (None, 16, 16, 256)       295168    \n",
      "                                                                 \n",
      " flatten_1 (Flatten)         (None, 65536)             0         \n",
      "                                                                 \n",
      " latent_vector (Dense)       (None, 512)               33554944  \n",
      "                                                                 \n",
      " dense_1 (Dense)             (None, 442368)            226934784 \n",
      "                                                                 \n",
      " decoder_output (Reshape)    (None, 9, 128, 128, 3)    0         \n",
      "                                                                 \n",
      "=================================================================\n",
      "Total params: 260860544 (995.10 MB)\n",
      "Trainable params: 260860544 (995.10 MB)\n",
      "Non-trainable params: 0 (0.00 Byte)\n",
      "_________________________________________________________________\n"
     ]
    }
   ],
   "source": [
    "# Define input shape for 128x128x3 images\n",
    "input_shape = (128, 128, 3)  # Height, Width, Channels\n",
    "output_frames = 9  # Number of frames to predict\n",
    "\n",
    "# Build the model\n",
    "model = build_model(input_shape, output_frames)\n",
    "\n",
    "# Print model summary\n",
    "model.summary()"
   ]
  },
  {
   "cell_type": "code",
   "execution_count": 79,
   "id": "779d7a75-3a14-40c3-b332-ef34bdc59623",
   "metadata": {},
   "outputs": [
    {
     "name": "stdout",
     "output_type": "stream",
     "text": [
      "X shape: (5, 128, 128, 3)\n",
      "Y shape: (5, 9, 128, 128, 3)\n"
     ]
    }
   ],
   "source": [
    "def process_sprite_data(sprite_sheet_paths, num_frames):\n",
    "    \"\"\"\n",
    "    Processes sprite sheets and returns animation data without saving individual images.\n",
    "    \n",
    "    Parameters:\n",
    "    sprite_sheet_paths (list): List of paths to the sprite sheet images.\n",
    "    num_frames (int): Total number of frames (sprites) in the sprite sheet.\n",
    "    \n",
    "    Returns:\n",
    "    X (numpy array): Array of input frames (first frame of each animation sequence).\n",
    "    Y (numpy array): Array of output frames (remaining frames of each animation sequence).\n",
    "    \"\"\"\n",
    "    # Initialize lists for input (X) and output (Y) frames\n",
    "    X = []\n",
    "    Y = []\n",
    "    \n",
    "    # Process each sprite sheet in the provided paths\n",
    "    for i in range(len(sprite_sheet_paths)):\n",
    "        sprite_sheet = Image.open(sprite_sheet_paths[i])\n",
    "        \n",
    "        # Get sprite sheet dimensions\n",
    "        sheet_width, sheet_height = sprite_sheet.size\n",
    "        \n",
    "        # Calculate the width and height of each frame\n",
    "        frame_width = sheet_width // num_frames\n",
    "        frame_height = sheet_height  # Height of each frame is the same as the height of the sprite sheet\n",
    "        \n",
    "        # Loop through each frame in the sprite sheet\n",
    "        for frame_num in range(num_frames):\n",
    "            # Calculate the coordinates of the sprite in the sprite sheet\n",
    "            left = frame_num * frame_width\n",
    "            upper = 0\n",
    "            right = left + frame_width\n",
    "            lower = frame_height\n",
    "            \n",
    "            # Crop the sprite from the sprite sheet\n",
    "            frame = sprite_sheet.crop((left, upper, right, lower))\n",
    "            \n",
    "            # Resize to 128x128 if needed and convert to RGB\n",
    "            frame = frame.convert('RGB').resize((128, 128))\n",
    "            \n",
    "            # Normalize pixel values to [0, 1]\n",
    "            frame_array = np.array(frame) / 255.0\n",
    "            \n",
    "            # Append the first frame to X and the remaining ones to Y\n",
    "            if frame_num == 0:\n",
    "                X.append(frame_array)  # The first frame goes into X\n",
    "            else:\n",
    "                if len(Y) <= i:  # Initialize the sublist for Y if necessary\n",
    "                    Y.append([])\n",
    "                Y[i].append(frame_array)  # Subsequent frames go into Y\n",
    "    \n",
    "    return np.array(X), np.array(Y)\n",
    "\n",
    "sprite_sheet_paths = ['/Users/lofichill/Desktop/NIPA/a-yo-image/initial-experiments/tomato/image folder/City_men_1_10f/Walk.png',\n",
    "                      '/Users/lofichill/Desktop/NIPA/a-yo-image/initial-experiments/tomato/image folder/City_men_2_10f/Walk.png',\n",
    "                      '/Users/lofichill/Desktop/NIPA/a-yo-image/initial-experiments/tomato/image folder/City_men_3_10f/Walk.png',\n",
    "                      '/Users/lofichill/Desktop/NIPA/a-yo-image/initial-experiments/tomato/image folder/Gangsters_1_10f/Walk.png',\n",
    "                      '/Users/lofichill/Desktop/NIPA/a-yo-image/initial-experiments/tomato/image folder/Gangsters_2_10f/Walk.png',\n",
    "                      '/Users/lofichill/Desktop/NIPA/a-yo-image/initial-experiments/tomato/image folder/Gangsters_3_10f/Walk.png'\n",
    "                     ] \n",
    "num_frames = 10  # Number of frames in the sprite sheet\n",
    "X, Y = process_sprite_data(sprite_sheet_paths, num_frames)\n",
    "\n",
    "print(f\"X shape: {X[1:].shape}\")  # Should be (num_sequences, 128, 128, 3)\n",
    "print(f\"Y shape: {Y[1:].shape}\")  # Should be (num_sequences, 9, 128, 128, 3)"
   ]
  },
  {
   "cell_type": "code",
   "execution_count": 84,
   "id": "c7af9240-484b-47aa-bfd5-6e87dbea03d0",
   "metadata": {},
   "outputs": [
    {
     "data": {
      "text/plain": [
       "numpy.ndarray"
      ]
     },
     "execution_count": 84,
     "metadata": {},
     "output_type": "execute_result"
    }
   ],
   "source": [
    "type(X)"
   ]
  },
  {
   "cell_type": "code",
   "execution_count": 80,
   "id": "7133de22-7ec4-4c5c-ac03-5ff4e6abb035",
   "metadata": {},
   "outputs": [
    {
     "name": "stdout",
     "output_type": "stream",
     "text": [
      "Epoch 1/50\n"
     ]
    },
    {
     "name": "stderr",
     "output_type": "stream",
     "text": [
      "2024-10-24 17:03:10.549493: I tensorflow/core/grappler/optimizers/custom_graph_optimizer_registry.cc:114] Plugin optimizer for device_type GPU is enabled.\n"
     ]
    },
    {
     "name": "stdout",
     "output_type": "stream",
     "text": [
      "1/1 [==============================] - 2s 2s/step - loss: 0.2440 - mae: 0.4921 - val_loss: 0.2449 - val_mae: 0.4935\n",
      "Epoch 2/50\n"
     ]
    },
    {
     "name": "stderr",
     "output_type": "stream",
     "text": [
      "2024-10-24 17:03:12.049718: I tensorflow/core/grappler/optimizers/custom_graph_optimizer_registry.cc:114] Plugin optimizer for device_type GPU is enabled.\n"
     ]
    },
    {
     "name": "stdout",
     "output_type": "stream",
     "text": [
      "1/1 [==============================] - 1s 717ms/step - loss: 0.2438 - mae: 0.4920 - val_loss: 0.2443 - val_mae: 0.4929\n",
      "Epoch 3/50\n",
      "1/1 [==============================] - 1s 549ms/step - loss: 0.2432 - mae: 0.4914 - val_loss: 0.2399 - val_mae: 0.4883\n",
      "Epoch 4/50\n",
      "1/1 [==============================] - 1s 554ms/step - loss: 0.2388 - mae: 0.4868 - val_loss: 0.2043 - val_mae: 0.4497\n",
      "Epoch 5/50\n",
      "1/1 [==============================] - 0s 486ms/step - loss: 0.2034 - mae: 0.4483 - val_loss: 0.0646 - val_mae: 0.2427\n",
      "Epoch 6/50\n",
      "1/1 [==============================] - 1s 503ms/step - loss: 0.0648 - mae: 0.2423 - val_loss: 0.0087 - val_mae: 0.0222\n",
      "Epoch 7/50\n",
      "1/1 [==============================] - 1s 573ms/step - loss: 0.0114 - mae: 0.0259 - val_loss: 0.0098 - val_mae: 0.0180\n",
      "Epoch 8/50\n",
      "1/1 [==============================] - 1s 635ms/step - loss: 0.0128 - mae: 0.0221 - val_loss: 0.0140 - val_mae: 0.0198\n",
      "Epoch 9/50\n",
      "1/1 [==============================] - 1s 596ms/step - loss: 0.0167 - mae: 0.0236 - val_loss: 0.0155 - val_mae: 0.0208\n",
      "Epoch 10/50\n",
      "1/1 [==============================] - 1s 625ms/step - loss: 0.0179 - mae: 0.0243 - val_loss: 0.0159 - val_mae: 0.0210\n",
      "Epoch 11/50\n",
      "1/1 [==============================] - 1s 620ms/step - loss: 0.0183 - mae: 0.0245 - val_loss: 0.0161 - val_mae: 0.0211\n",
      "Epoch 12/50\n",
      "1/1 [==============================] - 1s 613ms/step - loss: 0.0185 - mae: 0.0246 - val_loss: 0.0162 - val_mae: 0.0211\n",
      "Epoch 13/50\n",
      "1/1 [==============================] - 1s 588ms/step - loss: 0.0186 - mae: 0.0247 - val_loss: 0.0163 - val_mae: 0.0212\n",
      "Epoch 14/50\n",
      "1/1 [==============================] - 1s 621ms/step - loss: 0.0187 - mae: 0.0247 - val_loss: 0.0163 - val_mae: 0.0212\n",
      "Epoch 15/50\n",
      "1/1 [==============================] - 1s 564ms/step - loss: 0.0187 - mae: 0.0248 - val_loss: 0.0164 - val_mae: 0.0213\n",
      "Epoch 16/50\n",
      "1/1 [==============================] - 1s 597ms/step - loss: 0.0188 - mae: 0.0248 - val_loss: 0.0164 - val_mae: 0.0213\n",
      "Epoch 17/50\n",
      "1/1 [==============================] - 1s 564ms/step - loss: 0.0188 - mae: 0.0248 - val_loss: 0.0164 - val_mae: 0.0213\n",
      "Epoch 18/50\n",
      "1/1 [==============================] - 1s 545ms/step - loss: 0.0188 - mae: 0.0248 - val_loss: 0.0165 - val_mae: 0.0214\n",
      "Epoch 19/50\n",
      "1/1 [==============================] - 1s 530ms/step - loss: 0.0188 - mae: 0.0248 - val_loss: 0.0165 - val_mae: 0.0214\n",
      "Epoch 20/50\n",
      "1/1 [==============================] - 1s 506ms/step - loss: 0.0188 - mae: 0.0248 - val_loss: 0.0165 - val_mae: 0.0214\n",
      "Epoch 21/50\n",
      "1/1 [==============================] - 1s 539ms/step - loss: 0.0188 - mae: 0.0249 - val_loss: 0.0165 - val_mae: 0.0214\n",
      "Epoch 22/50\n",
      "1/1 [==============================] - 1s 521ms/step - loss: 0.0189 - mae: 0.0249 - val_loss: 0.0165 - val_mae: 0.0214\n",
      "Epoch 23/50\n",
      "1/1 [==============================] - 1s 611ms/step - loss: 0.0189 - mae: 0.0249 - val_loss: 0.0165 - val_mae: 0.0214\n",
      "Epoch 24/50\n",
      "1/1 [==============================] - 1s 608ms/step - loss: 0.0189 - mae: 0.0249 - val_loss: 0.0165 - val_mae: 0.0214\n",
      "Epoch 25/50\n",
      "1/1 [==============================] - 1s 727ms/step - loss: 0.0189 - mae: 0.0249 - val_loss: 0.0165 - val_mae: 0.0214\n",
      "Epoch 26/50\n",
      "1/1 [==============================] - 1s 588ms/step - loss: 0.0189 - mae: 0.0249 - val_loss: 0.0166 - val_mae: 0.0214\n",
      "Epoch 27/50\n",
      "1/1 [==============================] - 1s 551ms/step - loss: 0.0189 - mae: 0.0249 - val_loss: 0.0166 - val_mae: 0.0215\n",
      "Epoch 28/50\n",
      "1/1 [==============================] - 1s 531ms/step - loss: 0.0189 - mae: 0.0249 - val_loss: 0.0166 - val_mae: 0.0215\n",
      "Epoch 29/50\n",
      "1/1 [==============================] - 1s 526ms/step - loss: 0.0189 - mae: 0.0249 - val_loss: 0.0166 - val_mae: 0.0215\n",
      "Epoch 30/50\n",
      "1/1 [==============================] - 1s 529ms/step - loss: 0.0189 - mae: 0.0249 - val_loss: 0.0166 - val_mae: 0.0215\n",
      "Epoch 31/50\n",
      "1/1 [==============================] - 1s 540ms/step - loss: 0.0189 - mae: 0.0249 - val_loss: 0.0166 - val_mae: 0.0215\n",
      "Epoch 32/50\n",
      "1/1 [==============================] - 1s 527ms/step - loss: 0.0189 - mae: 0.0249 - val_loss: 0.0166 - val_mae: 0.0215\n",
      "Epoch 33/50\n",
      "1/1 [==============================] - 1s 511ms/step - loss: 0.0189 - mae: 0.0250 - val_loss: 0.0166 - val_mae: 0.0215\n",
      "Epoch 34/50\n",
      "1/1 [==============================] - 1s 586ms/step - loss: 0.0189 - mae: 0.0250 - val_loss: 0.0166 - val_mae: 0.0215\n",
      "Epoch 35/50\n",
      "1/1 [==============================] - 1s 582ms/step - loss: 0.0189 - mae: 0.0250 - val_loss: 0.0166 - val_mae: 0.0215\n",
      "Epoch 36/50\n",
      "1/1 [==============================] - 1s 719ms/step - loss: 0.0189 - mae: 0.0250 - val_loss: 0.0166 - val_mae: 0.0215\n",
      "Epoch 37/50\n",
      "1/1 [==============================] - 1s 654ms/step - loss: 0.0189 - mae: 0.0250 - val_loss: 0.0166 - val_mae: 0.0215\n",
      "Epoch 38/50\n",
      "1/1 [==============================] - 1s 638ms/step - loss: 0.0189 - mae: 0.0250 - val_loss: 0.0166 - val_mae: 0.0215\n",
      "Epoch 39/50\n",
      "1/1 [==============================] - 1s 620ms/step - loss: 0.0189 - mae: 0.0250 - val_loss: 0.0166 - val_mae: 0.0215\n",
      "Epoch 40/50\n",
      "1/1 [==============================] - 1s 631ms/step - loss: 0.0189 - mae: 0.0250 - val_loss: 0.0166 - val_mae: 0.0215\n",
      "Epoch 41/50\n",
      "1/1 [==============================] - 1s 576ms/step - loss: 0.0189 - mae: 0.0250 - val_loss: 0.0166 - val_mae: 0.0215\n",
      "Epoch 42/50\n",
      "1/1 [==============================] - 1s 609ms/step - loss: 0.0189 - mae: 0.0250 - val_loss: 0.0166 - val_mae: 0.0215\n",
      "Epoch 43/50\n",
      "1/1 [==============================] - 1s 618ms/step - loss: 0.0189 - mae: 0.0250 - val_loss: 0.0166 - val_mae: 0.0215\n",
      "Epoch 44/50\n",
      "1/1 [==============================] - 1s 563ms/step - loss: 0.0189 - mae: 0.0250 - val_loss: 0.0166 - val_mae: 0.0215\n",
      "Epoch 45/50\n",
      "1/1 [==============================] - 1s 594ms/step - loss: 0.0189 - mae: 0.0250 - val_loss: 0.0166 - val_mae: 0.0215\n",
      "Epoch 46/50\n",
      "1/1 [==============================] - 1s 509ms/step - loss: 0.0190 - mae: 0.0250 - val_loss: 0.0167 - val_mae: 0.0215\n",
      "Epoch 47/50\n",
      "1/1 [==============================] - 1s 584ms/step - loss: 0.0190 - mae: 0.0250 - val_loss: 0.0167 - val_mae: 0.0215\n",
      "Epoch 48/50\n",
      "1/1 [==============================] - 1s 506ms/step - loss: 0.0190 - mae: 0.0250 - val_loss: 0.0167 - val_mae: 0.0215\n",
      "Epoch 49/50\n",
      "1/1 [==============================] - 1s 556ms/step - loss: 0.0190 - mae: 0.0250 - val_loss: 0.0167 - val_mae: 0.0215\n",
      "Epoch 50/50\n",
      "1/1 [==============================] - 1s 568ms/step - loss: 0.0190 - mae: 0.0250 - val_loss: 0.0167 - val_mae: 0.0215\n"
     ]
    },
    {
     "data": {
      "text/plain": [
       "<keras.src.callbacks.History at 0x1571f68b0>"
      ]
     },
     "execution_count": 80,
     "metadata": {},
     "output_type": "execute_result"
    }
   ],
   "source": [
    "# Train the model without the first example = X[1:], Y[1:]\n",
    "model.fit(X, Y, epochs=50, batch_size=32, validation_split=0.1)"
   ]
  },
  {
   "cell_type": "code",
   "execution_count": 87,
   "id": "4630210a-f033-4a7e-b251-ae495369b7b8",
   "metadata": {},
   "outputs": [
    {
     "name": "stdout",
     "output_type": "stream",
     "text": [
      "1/1 [==============================] - 0s 22ms/step\n",
      "1/1 [==============================] - 0s 19ms/step\n",
      "1/1 [==============================] - 0s 14ms/step\n",
      "1/1 [==============================] - 0s 14ms/step\n",
      "1/1 [==============================] - 0s 14ms/step\n",
      "1/1 [==============================] - 0s 15ms/step\n"
     ]
    }
   ],
   "source": [
    "refine_train = []\n",
    "\n",
    "for i in range(X.shape[0]):\n",
    "    predicted_frames = model.predict(np.expand_dims(X[0], axis=0))  # Add batch dimension\n",
    "    predicted_frames = predicted_frames.squeeze()  # Remove the batch dimension if needed\n",
    "    merged_frames = np.concatenate((np.expand_dims(X[i], axis=0), predicted_frames), axis=0)\n",
    "    refine_train.append(np.expand_dims(merged_frames, axis=0))\n",
    "    \n",
    "# print(f\"Predicted frames shape: {predicted_frames.shape}\")  # Should be (9, 128, 128, 3)\n",
    "\n",
    "# # Optionally, save the predicted frames or display them\n",
    "# for i in range(predicted_frames.shape[0]):\n",
    "#     frame = (predicted_frames[i] * 255).astype(np.uint8)  # Convert back to [0, 255]"
   ]
  },
  {
   "cell_type": "code",
   "execution_count": 96,
   "id": "91f0e116-992c-4c60-a217-e19e0e737d03",
   "metadata": {},
   "outputs": [
    {
     "data": {
      "text/plain": [
       "(6, 10, 128, 128, 3)"
      ]
     },
     "execution_count": 96,
     "metadata": {},
     "output_type": "execute_result"
    }
   ],
   "source": [
    "refine_train = np.concatenate(refine_train, axis=0) \n",
    "refine_train.shape"
   ]
  },
  {
   "cell_type": "code",
   "execution_count": 14,
   "id": "604881f5-1752-419d-87d8-5380ea9bba07",
   "metadata": {},
   "outputs": [
    {
     "name": "stdout",
     "output_type": "stream",
     "text": [
      "Merged shape: (10, 128, 128, 3)\n"
     ]
    }
   ],
   "source": [
    "# def merge_frames(input_frame, output_frames):\n",
    "#     \"\"\"\n",
    "#     Merge input_frame (1, 128, 128, 3) and output_frames (9, 128, 128, 3) into one array.\n",
    "    \n",
    "#     Parameters:\n",
    "#     input_frame (numpy array): The first frame with shape (1, 128, 128, 3).\n",
    "#     output_frames (numpy array): The rest of the frames with shape (9, 128, 128, 3).\n",
    "\n",
    "#     Returns:\n",
    "#     numpy array: Merged frames with shape (10, 128, 128, 3).\n",
    "#     \"\"\"    \n",
    "#     # Concatenate the input frame with the output frames\n",
    "#     merged_frames = np.concatenate(([input_frame], output_frames), axis=0)\n",
    "    \n",
    "#     return merged_frames\n",
    "\n",
    "# merged_frames = merge_frames(X[0], predicted_frames)\n",
    "# print(\"Merged shape:\", merged_frames.shape)  # Expected Output: (10, 128, 128, 3)"
   ]
  },
  {
   "cell_type": "code",
   "execution_count": 93,
   "id": "cb7a7d5b-b1f4-45ef-a3e3-bd0f37d65ca6",
   "metadata": {},
   "outputs": [
    {
     "data": {
      "image/png": "[encoded data removed]",
      "text/plain": [
       "<Figure size 1500x500 with 10 Axes>"
      ]
     },
     "metadata": {},
     "output_type": "display_data"
    }
   ],
   "source": [
    "def display_predicted_frames(predicted_frames):\n",
    "    \"\"\"\n",
    "    Display predicted frames using Matplotlib.\n",
    "\n",
    "    Parameters:\n",
    "    predicted_frames (numpy array): Array of predicted frames.\n",
    "    \"\"\"\n",
    "    num_frames = predicted_frames.shape[0]\n",
    "\n",
    "    # Create a figure to display the frames\n",
    "    plt.figure(figsize=(15, 5))\n",
    "\n",
    "    for i in range(num_frames):\n",
    "        plt.subplot(1, num_frames, i + 1)  # Create a subplot for each frame\n",
    "        plt.imshow(predicted_frames[i])  # Display the frame\n",
    "        plt.axis('off')  # Hide the axes\n",
    "        plt.title(f'Frame {i}')  # Optional: add title to each frame\n",
    "\n",
    "    plt.tight_layout()  # Adjust subplots to fit in to the figure area.\n",
    "    plt.show()  # Show the plot\n",
    "\n",
    "display_predicted_frames(refine_train[3][0])"
   ]
  },
  {
   "cell_type": "code",
   "execution_count": null,
   "id": "c4075742-88b0-4a6b-8277-3b8827bde35a",
   "metadata": {
    "scrolled": true
   },
   "outputs": [],
   "source": [
    "# def animate_frames(predicted_frames):\n",
    "#     \"\"\"\n",
    "#     Create and display an animation from predicted frames in Jupyter Notebook.\n",
    "    \n",
    "#     Parameters:\n",
    "#     predicted_frames (numpy array): Array of predicted frames, expected shape (num_frames, 128, 128, 3).\n",
    "#     \"\"\"\n",
    "#     num_frames = predicted_frames.shape[0]\n",
    "\n",
    "#     # Create a figure\n",
    "#     fig, ax = plt.subplots()\n",
    "\n",
    "#     # Display the first frame initially\n",
    "#     img = ax.imshow(predicted_frames[0], animated=True)\n",
    "#     ax.axis('off')  # Hide the axis for visual appeal\n",
    "\n",
    "#     # Update function for the animation\n",
    "#     def update(frame_num):\n",
    "#         img.set_array(predicted_frames[frame_num])  # Update the image data with the new frame\n",
    "#         return [img]\n",
    "\n",
    "#     # Create the animation: FuncAnimation creates a new image every interval\n",
    "#     ani = FuncAnimation(\n",
    "#         fig, update, frames=num_frames, interval=200, blit=True  # interval sets the frame display time (in ms)\n",
    "#     )\n",
    "\n",
    "#     # Display the animation in Jupyter\n",
    "#     plt.close(fig)  # Close the figure to prevent a static image from being displayed\n",
    "#     return HTML(ani.to_jshtml())  # Display the animation in HTML format\n",
    "\n",
    "\n",
    "# animate_frames(merged_frames)"
   ]
  },
  {
   "cell_type": "code",
   "execution_count": 17,
   "id": "5f782748-adcc-47f9-87ba-074d07990e8a",
   "metadata": {},
   "outputs": [],
   "source": [
    "# # saving gif file\n",
    "\n",
    "# def animate_frames(predicted_frames, save_path=None, fps=5):\n",
    "#     \"\"\"\n",
    "#     Create, display, and optionally save an animation from predicted frames in Jupyter Notebook.\n",
    "    \n",
    "#     Parameters:\n",
    "#     predicted_frames (numpy array): Array of predicted frames, expected shape (num_frames, 128, 128, 3).\n",
    "#     save_path (str, optional): Path to save the animation (supports formats like .mp4 or .gif).\n",
    "#     fps (int, optional): Frames per second for the animation. Default is 5 fps.\n",
    "#     \"\"\"\n",
    "#     num_frames = predicted_frames.shape[0]\n",
    "\n",
    "#     # Create a figure\n",
    "#     fig, ax = plt.subplots()\n",
    "\n",
    "#     # Display the first frame initially\n",
    "#     img = ax.imshow(predicted_frames[0], animated=True)\n",
    "#     ax.axis('off')  # Hide the axis for visual appeal\n",
    "\n",
    "#     # Update function for the animation\n",
    "#     def update(frame_num):\n",
    "#         img.set_array(predicted_frames[frame_num])  # Update the image data with the new frame\n",
    "#         return [img]\n",
    "\n",
    "#     # Create the animation: FuncAnimation creates a new image every interval\n",
    "#     ani = FuncAnimation(\n",
    "#         fig, update, frames=num_frames, interval=1000//fps, blit=True  # interval in ms\n",
    "#     )\n",
    "\n",
    "#     if save_path:\n",
    "#         # Save the animation\n",
    "#         if save_path.endswith(\".mp4\"):\n",
    "#             ani.save(save_path, writer=\"ffmpeg\", fps=fps)\n",
    "#         elif save_path.endswith(\".gif\"):\n",
    "#             ani.save(save_path, writer=\"pillow\", fps=fps)\n",
    "#         print(f\"Animation saved to {save_path}\")\n",
    "    \n",
    "#     # Display the animation in Jupyter\n",
    "#     plt.close(fig)  # Close the figure to prevent a static image from being displayed\n",
    "#     return HTML(ani.to_jshtml())\n",
    "\n",
    "# animate_frames(merged_frames, '/Users/lofichill/Desktop/NIPA/a-yo-image/initial-experiments/tomato/output/Stride_Conv.gif', fps=5)"
   ]
  },
  {
   "cell_type": "code",
   "execution_count": 69,
   "id": "dc52b81e-7693-421a-ab7e-23c815ad32dd",
   "metadata": {},
   "outputs": [],
   "source": [
    "from tensorflow.keras import layers, models\n",
    "\n",
    "def build_refinement_model(input_shape, output_frames):\n",
    "    \"\"\"\n",
    "    Builds a U-Net-like refinement model to clean up noisy generated frames.\n",
    "    \n",
    "    Parameters:\n",
    "    input_shape (tuple): The shape of the input (frames, height, width, channels).\n",
    "                         The first dimension is for the sequence of frames.\n",
    "    output_frames (int): The number of frames to output.\n",
    "    \n",
    "    Returns:\n",
    "    model: The compiled Keras refinement model.\n",
    "    \"\"\"\n",
    "    # Encoder\n",
    "    encoder_input = layers.Input(shape=input_shape, name='refinement_input')\n",
    "    \n",
    "    # Encoder Block 1\n",
    "    conv1 = layers.TimeDistributed(layers.Conv2D(64, (3, 3), padding='same', activation='relu'))(encoder_input)\n",
    "    pool1 = layers.TimeDistributed(layers.MaxPooling2D((2, 2)))(conv1)\n",
    "    \n",
    "    # Encoder Block 2\n",
    "    conv2 = layers.TimeDistributed(layers.Conv2D(128, (3, 3), padding='same', activation='relu'))(pool1)\n",
    "    pool2 = layers.TimeDistributed(layers.MaxPooling2D((2, 2)))(conv2)\n",
    "    \n",
    "    # Encoder Block 3\n",
    "    conv3 = layers.TimeDistributed(layers.Conv2D(256, (3, 3), padding='same', activation='relu'))(pool2)\n",
    "    pool3 = layers.TimeDistributed(layers.MaxPooling2D((2, 2)))(conv3)\n",
    "    \n",
    "    # Latent Space (lowest resolution)\n",
    "    latent = layers.TimeDistributed(layers.Conv2D(512, (3, 3), padding='same', activation='relu'))(pool3)\n",
    "\n",
    "    # Decoder Block 1 (Upsampling)\n",
    "    up1 = layers.TimeDistributed(layers.UpSampling2D((2, 2)))(latent)\n",
    "    dec1 = layers.TimeDistributed(layers.Conv2D(256, (3, 3), padding='same', activation='relu'))(up1)\n",
    "    \n",
    "    # Adjust the shape of conv3 to match dec1\n",
    "    conv3_reshaped = layers.TimeDistributed(layers.Conv2D(256, (1, 1), padding='same'))(conv3)  # Adjust spatial size\n",
    "    \n",
    "    # Skip connection\n",
    "    dec1 = layers.Concatenate()([dec1, conv3_reshaped])  # Skip connection from Encoder Block 3\n",
    "    \n",
    "    # Decoder Block 2 (Upsampling)\n",
    "    up2 = layers.TimeDistributed(layers.UpSampling2D((2, 2)))(dec1)\n",
    "    dec2 = layers.TimeDistributed(layers.Conv2D(128, (3, 3), padding='same', activation='relu'))(up2)\n",
    "    \n",
    "    # Adjust the shape of conv2 to match dec2\n",
    "    conv2_reshaped = layers.TimeDistributed(layers.Conv2D(128, (1, 1), padding='same'))(conv2)  # Adjust spatial size\n",
    "    \n",
    "    # Skip connection\n",
    "    dec2 = layers.Concatenate()([dec2, conv2_reshaped])  # Skip connection from Encoder Block 2\n",
    "\n",
    "    # Decoder Block 3 (Upsampling)\n",
    "    up3 = layers.TimeDistributed(layers.UpSampling2D((2, 2)))(dec2)\n",
    "    dec3 = layers.TimeDistributed(layers.Conv2D(64, (3, 3), padding='same', activation='relu'))(up3)\n",
    "    \n",
    "    # Adjust the shape of conv1 to match dec3\n",
    "    conv1_reshaped = layers.TimeDistributed(layers.Conv2D(64, (1, 1), padding='same'))(conv1)  # Adjust spatial size\n",
    "    \n",
    "    # Skip connection\n",
    "    dec3 = layers.Concatenate()([dec3, conv1_reshaped])  # Skip connection from Encoder Block 1\n",
    "\n",
    "    # Output layer (restored clean frames)\n",
    "    output = layers.TimeDistributed(layers.Conv2D(input_shape[-1], (1, 1), activation='sigmoid'))(dec3)  # Same channels as input\n",
    "    \n",
    "    # Build and compile the model\n",
    "    model = models.Model(encoder_input, output, name='refinement_model')\n",
    "    \n",
    "    # Compile the model\n",
    "    model.compile(optimizer='adam', loss=mse_rgb, metrics=['mae'])\n",
    "    \n",
    "    return model\n"
   ]
  },
  {
   "cell_type": "code",
   "execution_count": 70,
   "id": "02efa730-80ab-4d12-9a4f-0edc26b6e41a",
   "metadata": {},
   "outputs": [
    {
     "name": "stdout",
     "output_type": "stream",
     "text": [
      "Model: \"refinement_model\"\n",
      "__________________________________________________________________________________________________\n",
      " Layer (type)                Output Shape                 Param #   Connected to                  \n",
      "==================================================================================================\n",
      " refinement_input (InputLay  [(None, 10, 128, 128, 3)]    0         []                            \n",
      " er)                                                                                              \n",
      "                                                                                                  \n",
      " time_distributed_44 (TimeD  (None, 10, 128, 128, 64)     1792      ['refinement_input[0][0]']    \n",
      " istributed)                                                                                      \n",
      "                                                                                                  \n",
      " time_distributed_45 (TimeD  (None, 10, 64, 64, 64)       0         ['time_distributed_44[0][0]'] \n",
      " istributed)                                                                                      \n",
      "                                                                                                  \n",
      " time_distributed_46 (TimeD  (None, 10, 64, 64, 128)      73856     ['time_distributed_45[0][0]'] \n",
      " istributed)                                                                                      \n",
      "                                                                                                  \n",
      " time_distributed_47 (TimeD  (None, 10, 32, 32, 128)      0         ['time_distributed_46[0][0]'] \n",
      " istributed)                                                                                      \n",
      "                                                                                                  \n",
      " time_distributed_48 (TimeD  (None, 10, 32, 32, 256)      295168    ['time_distributed_47[0][0]'] \n",
      " istributed)                                                                                      \n",
      "                                                                                                  \n",
      " time_distributed_49 (TimeD  (None, 10, 16, 16, 256)      0         ['time_distributed_48[0][0]'] \n",
      " istributed)                                                                                      \n",
      "                                                                                                  \n",
      " time_distributed_50 (TimeD  (None, 10, 16, 16, 512)      1180160   ['time_distributed_49[0][0]'] \n",
      " istributed)                                                                                      \n",
      "                                                                                                  \n",
      " time_distributed_51 (TimeD  (None, 10, 32, 32, 512)      0         ['time_distributed_50[0][0]'] \n",
      " istributed)                                                                                      \n",
      "                                                                                                  \n",
      " time_distributed_52 (TimeD  (None, 10, 32, 32, 256)      1179904   ['time_distributed_51[0][0]'] \n",
      " istributed)                                                                                      \n",
      "                                                                                                  \n",
      " time_distributed_53 (TimeD  (None, 10, 32, 32, 256)      65792     ['time_distributed_48[0][0]'] \n",
      " istributed)                                                                                      \n",
      "                                                                                                  \n",
      " concatenate_7 (Concatenate  (None, 10, 32, 32, 512)      0         ['time_distributed_52[0][0]', \n",
      " )                                                                   'time_distributed_53[0][0]'] \n",
      "                                                                                                  \n",
      " time_distributed_54 (TimeD  (None, 10, 64, 64, 512)      0         ['concatenate_7[0][0]']       \n",
      " istributed)                                                                                      \n",
      "                                                                                                  \n",
      " time_distributed_55 (TimeD  (None, 10, 64, 64, 128)      589952    ['time_distributed_54[0][0]'] \n",
      " istributed)                                                                                      \n",
      "                                                                                                  \n",
      " time_distributed_56 (TimeD  (None, 10, 64, 64, 128)      16512     ['time_distributed_46[0][0]'] \n",
      " istributed)                                                                                      \n",
      "                                                                                                  \n",
      " concatenate_8 (Concatenate  (None, 10, 64, 64, 256)      0         ['time_distributed_55[0][0]', \n",
      " )                                                                   'time_distributed_56[0][0]'] \n",
      "                                                                                                  \n",
      " time_distributed_57 (TimeD  (None, 10, 128, 128, 256)    0         ['concatenate_8[0][0]']       \n",
      " istributed)                                                                                      \n",
      "                                                                                                  \n",
      " time_distributed_58 (TimeD  (None, 10, 128, 128, 64)     147520    ['time_distributed_57[0][0]'] \n",
      " istributed)                                                                                      \n",
      "                                                                                                  \n",
      " time_distributed_59 (TimeD  (None, 10, 128, 128, 64)     4160      ['time_distributed_44[0][0]'] \n",
      " istributed)                                                                                      \n",
      "                                                                                                  \n",
      " concatenate_9 (Concatenate  (None, 10, 128, 128, 128)    0         ['time_distributed_58[0][0]', \n",
      " )                                                                   'time_distributed_59[0][0]'] \n",
      "                                                                                                  \n",
      " time_distributed_60 (TimeD  (None, 10, 128, 128, 3)      387       ['concatenate_9[0][0]']       \n",
      " istributed)                                                                                      \n",
      "                                                                                                  \n",
      "==================================================================================================\n",
      "Total params: 3555203 (13.56 MB)\n",
      "Trainable params: 3555203 (13.56 MB)\n",
      "Non-trainable params: 0 (0.00 Byte)\n",
      "__________________________________________________________________________________________________\n"
     ]
    }
   ],
   "source": [
    "total_frames = 10\n",
    "\n",
    "# Define input shape as (frames, height, width, channels)\n",
    "input_shape = (10, 128, 128, 3)  # Example: sequence of frames, each 128x128 with 3 channels (RGB)\n",
    "output_frames = 10  # Example: number of frames\n",
    "\n",
    "# Build the refinement model\n",
    "refinement_model = build_refinement_model(input_shape, output_frames)\n",
    "refinement_model.summary()"
   ]
  },
  {
   "cell_type": "code",
   "execution_count": 97,
   "id": "efabd719-cba1-4f56-aa04-abd33253ef7d",
   "metadata": {},
   "outputs": [],
   "source": [
    "import numpy as np\n",
    "from PIL import Image\n",
    "\n",
    "def process_sprite_data_2(sprite_sheet_paths, num_frames):\n",
    "    \"\"\"\n",
    "    Processes sprite sheets and returns animation data without saving individual images.\n",
    "    \n",
    "    Parameters:\n",
    "    sprite_sheet_paths (list): List of paths to the sprite sheet images.\n",
    "    num_frames (int): Total number of frames (sprites) in the sprite sheet.\n",
    "    \n",
    "    Returns:\n",
    "    Y (numpy array): Array of all input frames (sprites) from each animation sequence.\n",
    "    \"\"\"\n",
    "    # Initialize a list for output (Y) frames\n",
    "    Y = []\n",
    "    \n",
    "    # Process each sprite sheet in the provided paths\n",
    "    for i in range(len(sprite_sheet_paths)):\n",
    "        sprite_sheet = Image.open(sprite_sheet_paths[i])\n",
    "        \n",
    "        # Get sprite sheet dimensions\n",
    "        sheet_width, sheet_height = sprite_sheet.size\n",
    "        \n",
    "        # Calculate the width and height of each frame\n",
    "        frame_width = sheet_width // num_frames\n",
    "        frame_height = sheet_height  # Height of each frame is the same as the height of the sprite sheet\n",
    "        \n",
    "        # Initialize a list for frames of the current sprite sheet\n",
    "        current_sprite_frames = []\n",
    "        \n",
    "        # Loop through each frame in the sprite sheet\n",
    "        for frame_num in range(num_frames):\n",
    "            # Calculate the coordinates of the sprite in the sprite sheet\n",
    "            left = frame_num * frame_width\n",
    "            upper = 0\n",
    "            right = left + frame_width\n",
    "            lower = frame_height\n",
    "            \n",
    "            # Crop the sprite from the sprite sheet\n",
    "            frame = sprite_sheet.crop((left, upper, right, lower))\n",
    "            \n",
    "            # Resize to 128x128 if needed and convert to RGB\n",
    "            frame = frame.convert('RGB').resize((128, 128))\n",
    "            \n",
    "            # Normalize pixel values to [0, 1]\n",
    "            frame_array = np.array(frame) / 255.0\n",
    "            \n",
    "            # Append the frame to the current sprite frames list\n",
    "            current_sprite_frames.append(frame_array)\n",
    "        \n",
    "        # Convert the current sprite frames to a NumPy array and reshape to (1, 10, 128, 128, 3)\n",
    "        current_sprite_frames = np.array(current_sprite_frames)  # Shape will be (10, 128, 128, 3)\n",
    "        current_sprite_frames = current_sprite_frames[np.newaxis, :]  # Add a new axis to make it (1, 10, 128, 128, 3)\n",
    "        \n",
    "        # Append the current sprite frames to Y\n",
    "        Y.append(current_sprite_frames)\n",
    "\n",
    "    # Convert Y to a NumPy array\n",
    "    Y = np.array(Y)  # Shape will be (6, 1, 10, 128, 128, 3)\n",
    "\n",
    "    # Reshape Y to (6, 10, 128, 128, 3) by removing the second dimension\n",
    "    Y = Y.reshape(6, 10, 128, 128, 3)\n",
    "    \n",
    "    return Y\n",
    "\n",
    "# Example usage\n",
    "# sprite_sheet_paths = ['path_to_sheet1.png', 'path_to_sheet2.png', 'path_to_sheet3.png', \n",
    "#                        'path_to_sheet4.png', 'path_to_sheet5.png', 'path_to_sheet6.png']\n",
    "# processed_data = process_sprite_data_2(sprite_sheet_paths, num_frames=10)\n"
   ]
  },
  {
   "cell_type": "code",
   "execution_count": 98,
   "id": "1951eaf6-8021-4003-95db-eb3e1c392cb8",
   "metadata": {},
   "outputs": [
    {
     "name": "stdout",
     "output_type": "stream",
     "text": [
      "Y shape: (6, 10, 128, 128, 3)\n"
     ]
    }
   ],
   "source": [
    "sprite_sheet_paths = ['/Users/lofichill/Desktop/NIPA/a-yo-image/initial-experiments/tomato/image folder/City_men_1_10f/Walk.png',\n",
    "                      '/Users/lofichill/Desktop/NIPA/a-yo-image/initial-experiments/tomato/image folder/City_men_2_10f/Walk.png',\n",
    "                      '/Users/lofichill/Desktop/NIPA/a-yo-image/initial-experiments/tomato/image folder/City_men_3_10f/Walk.png',\n",
    "                      '/Users/lofichill/Desktop/NIPA/a-yo-image/initial-experiments/tomato/image folder/Gangsters_1_10f/Walk.png',\n",
    "                      '/Users/lofichill/Desktop/NIPA/a-yo-image/initial-experiments/tomato/image folder/Gangsters_2_10f/Walk.png',\n",
    "                      '/Users/lofichill/Desktop/NIPA/a-yo-image/initial-experiments/tomato/image folder/Gangsters_3_10f/Walk.png'\n",
    "                     ] \n",
    "num_frames = 10  # Number of frames in the sprite sheet\n",
    "Y = process_sprite_data_2(sprite_sheet_paths, num_frames)\n",
    "\n",
    "print(f\"Y shape: {Y.shape}\")  # Should be (num_sequences, 9, 128, 128, 3)"
   ]
  },
  {
   "cell_type": "code",
   "execution_count": 100,
   "id": "cf3842e0-4472-4698-8f3a-67600a2fa2e4",
   "metadata": {},
   "outputs": [
    {
     "name": "stdout",
     "output_type": "stream",
     "text": [
      "(10, 128, 128, 3) (10, 128, 128, 3)\n"
     ]
    },
    {
     "data": {
      "text/plain": [
       "<matplotlib.image.AxesImage at 0x1561cca90>"
      ]
     },
     "execution_count": 100,
     "metadata": {},
     "output_type": "execute_result"
    },
    {
     "data": {
      "image/png": "[encoded data removed]",
      "text/plain": [
       "<Figure size 640x480 with 1 Axes>"
      ]
     },
     "metadata": {},
     "output_type": "display_data"
    }
   ],
   "source": [
    "print(merged_frames.shape, Y[0].shape)\n",
    "plt.imshow(Y[0][0]) # == X[0] for now"
   ]
  },
  {
   "cell_type": "code",
   "execution_count": 101,
   "id": "906718b3-8722-4569-8232-49073c340904",
   "metadata": {},
   "outputs": [
    {
     "name": "stdout",
     "output_type": "stream",
     "text": [
      "Epoch 1/20\n",
      "6/6 [==============================] - 5s 759ms/step - loss: 0.0413 - mae: 0.0472\n",
      "Epoch 2/20\n",
      "6/6 [==============================] - 5s 786ms/step - loss: 0.0413 - mae: 0.0472\n",
      "Epoch 3/20\n",
      "6/6 [==============================] - 4s 671ms/step - loss: 0.0413 - mae: 0.0472\n",
      "Epoch 4/20\n",
      "6/6 [==============================] - 4s 692ms/step - loss: 0.0413 - mae: 0.0472\n",
      "Epoch 5/20\n",
      "6/6 [==============================] - 5s 761ms/step - loss: 0.0413 - mae: 0.0472\n",
      "Epoch 6/20\n",
      "6/6 [==============================] - 4s 688ms/step - loss: 0.0413 - mae: 0.0472\n",
      "Epoch 7/20\n",
      "6/6 [==============================] - 4s 683ms/step - loss: 0.0413 - mae: 0.0472\n",
      "Epoch 8/20\n",
      "6/6 [==============================] - 4s 668ms/step - loss: 0.0413 - mae: 0.0472\n",
      "Epoch 9/20\n",
      "6/6 [==============================] - 5s 801ms/step - loss: 0.0413 - mae: 0.0472\n",
      "Epoch 10/20\n",
      "6/6 [==============================] - 4s 708ms/step - loss: 0.0413 - mae: 0.0472\n",
      "Epoch 11/20\n",
      "6/6 [==============================] - 4s 680ms/step - loss: 0.0413 - mae: 0.0472\n",
      "Epoch 12/20\n",
      "6/6 [==============================] - 4s 684ms/step - loss: 0.0413 - mae: 0.0472\n",
      "Epoch 13/20\n",
      "6/6 [==============================] - 5s 801ms/step - loss: 0.0413 - mae: 0.0472\n",
      "Epoch 14/20\n",
      "6/6 [==============================] - 4s 682ms/step - loss: 0.0413 - mae: 0.0472\n",
      "Epoch 15/20\n",
      "6/6 [==============================] - 4s 693ms/step - loss: 0.0413 - mae: 0.0472\n",
      "Epoch 16/20\n",
      "6/6 [==============================] - 4s 682ms/step - loss: 0.0413 - mae: 0.0472\n",
      "Epoch 17/20\n",
      "6/6 [==============================] - 5s 754ms/step - loss: 0.0413 - mae: 0.0472\n",
      "Epoch 18/20\n",
      "6/6 [==============================] - 4s 695ms/step - loss: 0.0413 - mae: 0.0472\n",
      "Epoch 19/20\n",
      "6/6 [==============================] - 4s 718ms/step - loss: 0.0413 - mae: 0.0472\n",
      "Epoch 20/20\n",
      "6/6 [==============================] - 5s 841ms/step - loss: 0.0413 - mae: 0.0472\n"
     ]
    },
    {
     "data": {
      "text/plain": [
       "<keras.src.callbacks.History at 0x156647340>"
      ]
     },
     "execution_count": 101,
     "metadata": {},
     "output_type": "execute_result"
    }
   ],
   "source": [
    "# Input shape error -> reshape(1, 10, 128, 128, 3) 으로 해결\n",
    "\n",
    "refinement_model.fit(refine_train, Y, epochs=20, batch_size=1)"
   ]
  },
  {
   "cell_type": "code",
   "execution_count": 102,
   "id": "fba5f8b2-77be-4c0d-ab23-410365b3e195",
   "metadata": {},
   "outputs": [
    {
     "name": "stdout",
     "output_type": "stream",
     "text": [
      "1/1 [==============================] - 0s 197ms/step\n",
      "Refined frames shape: (10, 128, 128, 3)\n",
      "Output range: min=1.0, max=1.0\n"
     ]
    }
   ],
   "source": [
    "# Should input (None, n of frames, 128, 128, 3)\n",
    "refined_frames = refinement_model.predict(np.expand_dims(refine_train[0], axis=0))  # Add batch dimension\n",
    "\n",
    "# Post-process the predicted frames if necessary\n",
    "refined_frames = refined_frames.squeeze()  # Remove the batch dimension if needed\n",
    "print(f\"Refined frames shape: {refined_frames.shape}\")  # Should be (10, 128, 128, 3)\n",
    "\n",
    "# Check the range of the output values\n",
    "print(f\"Output range: min={refined_frames.min()}, max={refined_frames.max()}\")\n",
    "\n",
    "for i in range(refined_frames.shape[0]):\n",
    "    (refined_frames[i] * 255).astype(np.uint8)  # Convert back to [0, 255]"
   ]
  },
  {
   "cell_type": "code",
   "execution_count": 65,
   "id": "7ce04cfa-f6b4-468a-a5a2-26ed86249b38",
   "metadata": {},
   "outputs": [
    {
     "data": {
      "text/plain": [
       "1.0"
      ]
     },
     "execution_count": 65,
     "metadata": {},
     "output_type": "execute_result"
    }
   ],
   "source": [
    "refined_frames.max()"
   ]
  },
  {
   "cell_type": "code",
   "execution_count": 103,
   "id": "61230511-156f-47c6-ad02-ccec5ee7d594",
   "metadata": {},
   "outputs": [
    {
     "data": {
      "image/png": "[encoded data removed]",
      "text/plain": [
       "<Figure size 1500x500 with 10 Axes>"
      ]
     },
     "metadata": {},
     "output_type": "display_data"
    }
   ],
   "source": [
    "display_predicted_frames(refined_frames)"
   ]
  },
  {
   "cell_type": "code",
   "execution_count": null,
   "id": "11154f15-0226-4a2f-8de3-03dec1f571fb",
   "metadata": {},
   "outputs": [],
   "source": []
  }
 ],
 "metadata": {
  "kernelspec": {
   "display_name": "Python 3 (ipykernel)",
   "language": "python",
   "name": "python3"
  },
  "language_info": {
   "codemirror_mode": {
    "name": "ipython",
    "version": 3
   },
   "file_extension": ".py",
   "mimetype": "text/x-python",
   "name": "python",
   "nbconvert_exporter": "python",
   "pygments_lexer": "ipython3",
   "version": "3.8.16"
  }
 },
 "nbformat": 4,
 "nbformat_minor": 5
}
