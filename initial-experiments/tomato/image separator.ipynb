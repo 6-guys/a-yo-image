{
 "cells": [
  {
   "cell_type": "code",
   "execution_count": 4,
   "id": "b821e69a-80fd-4542-8d51-08aad2dbf4ac",
   "metadata": {},
   "outputs": [],
   "source": [
    "from PIL import Image\n",
    "import os"
   ]
  },
  {
   "cell_type": "code",
   "execution_count": 7,
   "id": "490efb7f-e662-4fb5-bf1a-5d3f96ead5aa",
   "metadata": {},
   "outputs": [],
   "source": [
    "def extract_sprites_horizontal(sprite_sheet_paths, num_frames, output_dir):\n",
    "    \"\"\"\n",
    "    Extracts individual sprites from a horizontally aligned sprite sheet and saves them as separate images.\n",
    "    \n",
    "    Parameters:\n",
    "    sprite_sheet_path (str): Path to the sprite sheet image.\n",
    "    num_frames (int): Total number of frames (sprites) in the sprite sheet.\n",
    "    output_dir (str): Directory where extracted sprites will be saved.\n",
    "    \"\"\"\n",
    "    # Open the sprite sheet\n",
    "    for i in range(len(sprite_sheet_paths)):\n",
    "        sprite_sheet = Image.open(sprite_sheet_paths[i])\n",
    "        \n",
    "        # Get sprite sheet dimensions\n",
    "        sheet_width, sheet_height = sprite_sheet.size\n",
    "        \n",
    "        # Calculate the width and height of each frame\n",
    "        frame_width = sheet_width // num_frames\n",
    "        frame_height = sheet_height  # Height of each frame is the same as the height of the sprite sheet\n",
    "        \n",
    "        # Ensure output directory exists\n",
    "        os.makedirs(output_dir, exist_ok=True)\n",
    "        \n",
    "        # Loop through each frame and extract it\n",
    "        for frame_num in range(num_frames):\n",
    "            # Calculate the coordinates of the sprite in the sprite sheet\n",
    "            left = frame_num * frame_width\n",
    "            upper = 0\n",
    "            right = left + frame_width\n",
    "            lower = frame_height\n",
    "            \n",
    "            # Crop the sprite from the sprite sheet\n",
    "            frame = sprite_sheet.crop((left, upper, right, lower))\n",
    "            \n",
    "            # Save the frame as a separate image file\n",
    "            frame.save(f\"{output_dir}/frame_{i}_{frame_num}.png\")\n",
    "    \n",
    "        print(f\"{num_frames} frames extracted and saved in {output_dir}\")"
   ]
  },
  {
   "cell_type": "code",
   "execution_count": 8,
   "id": "778c7334-7a93-4884-86c9-e2fcbd93b6cb",
   "metadata": {},
   "outputs": [
    {
     "name": "stdout",
     "output_type": "stream",
     "text": [
      "10 frames extracted and saved in output_frames\n",
      "10 frames extracted and saved in output_frames\n",
      "10 frames extracted and saved in output_frames\n",
      "10 frames extracted and saved in output_frames\n",
      "10 frames extracted and saved in output_frames\n",
      "10 frames extracted and saved in output_frames\n"
     ]
    }
   ],
   "source": [
    "sprite_sheet_paths = ['/Users/lofichill/Desktop/NIPA/project/image folder/City_men_1_10f/Walk.png',\n",
    "                     '/Users/lofichill/Desktop/NIPA/project/image folder/City_men_2_10f/Walk.png',\n",
    "                      '/Users/lofichill/Desktop/NIPA/project/image folder/City_men_3_10f/Walk.png',\n",
    "                      '/Users/lofichill/Desktop/NIPA/project/image folder/Gangsters_1_10f/Walk.png',\n",
    "                      '/Users/lofichill/Desktop/NIPA/project/image folder/Gangsters_2_10f/Walk.png',\n",
    "                      '/Users/lofichill/Desktop/NIPA/project/image folder/Gangsters_3_10f/Walk.png',\n",
    "                      \n",
    "                     ]  # Path to your sprite sheet\n",
    "num_frames = 10  # Total number of frames in the sprite sheet\n",
    "output_dir = \"output_frames\"  # Directory to save the frames\n",
    "\n",
    "extract_sprites_horizontal(sprite_sheet_paths, num_frames, output_dir)"
   ]
  },
  {
   "cell_type": "code",
   "execution_count": null,
   "id": "f2fbf9b6-264b-4de1-b2c1-f1ca35a45459",
   "metadata": {},
   "outputs": [],
   "source": []
  }
 ],
 "metadata": {
  "kernelspec": {
   "display_name": "Python 3 (ipykernel)",
   "language": "python",
   "name": "python3"
  },
  "language_info": {
   "codemirror_mode": {
    "name": "ipython",
    "version": 3
   },
   "file_extension": ".py",
   "mimetype": "text/x-python",
   "name": "python",
   "nbconvert_exporter": "python",
   "pygments_lexer": "ipython3",
   "version": "3.8.16"
  }
 },
 "nbformat": 4,
 "nbformat_minor": 5
}
